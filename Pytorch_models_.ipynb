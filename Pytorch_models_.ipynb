{
  "nbformat": 4,
  "nbformat_minor": 0,
  "metadata": {
    "colab": {
      "name": "Pytorch_models .ipynb",
      "provenance": [],
      "collapsed_sections": [
        "eTJTGLg9gcpe"
      ],
      "machine_shape": "hm"
    },
    "kernelspec": {
      "name": "python3",
      "display_name": "Python 3"
    },
    "accelerator": "GPU",
    "widgets": {
      "application/vnd.jupyter.widget-state+json": {
        "0578a76171b54483b3d542381c7a1cc3": {
          "model_module": "@jupyter-widgets/controls",
          "model_name": "HBoxModel",
          "state": {
            "_view_name": "HBoxView",
            "_dom_classes": [],
            "_model_name": "HBoxModel",
            "_view_module": "@jupyter-widgets/controls",
            "_model_module_version": "1.5.0",
            "_view_count": null,
            "_view_module_version": "1.5.0",
            "box_style": "",
            "layout": "IPY_MODEL_d375dce7b6da4998943d4a651101b815",
            "_model_module": "@jupyter-widgets/controls",
            "children": [
              "IPY_MODEL_e0a73501a04a4eddb8b645f9aadf8f32",
              "IPY_MODEL_04ead33e33dd4c8fbd900babdf8ec803"
            ]
          }
        },
        "d375dce7b6da4998943d4a651101b815": {
          "model_module": "@jupyter-widgets/base",
          "model_name": "LayoutModel",
          "state": {
            "_view_name": "LayoutView",
            "grid_template_rows": null,
            "right": null,
            "justify_content": null,
            "_view_module": "@jupyter-widgets/base",
            "overflow": null,
            "_model_module_version": "1.2.0",
            "_view_count": null,
            "flex_flow": null,
            "width": null,
            "min_width": null,
            "border": null,
            "align_items": null,
            "bottom": null,
            "_model_module": "@jupyter-widgets/base",
            "top": null,
            "grid_column": null,
            "overflow_y": null,
            "overflow_x": null,
            "grid_auto_flow": null,
            "grid_area": null,
            "grid_template_columns": null,
            "flex": null,
            "_model_name": "LayoutModel",
            "justify_items": null,
            "grid_row": null,
            "max_height": null,
            "align_content": null,
            "visibility": null,
            "align_self": null,
            "height": null,
            "min_height": null,
            "padding": null,
            "grid_auto_rows": null,
            "grid_gap": null,
            "max_width": null,
            "order": null,
            "_view_module_version": "1.2.0",
            "grid_template_areas": null,
            "object_position": null,
            "object_fit": null,
            "grid_auto_columns": null,
            "margin": null,
            "display": null,
            "left": null
          }
        },
        "e0a73501a04a4eddb8b645f9aadf8f32": {
          "model_module": "@jupyter-widgets/controls",
          "model_name": "IntProgressModel",
          "state": {
            "_view_name": "ProgressView",
            "style": "IPY_MODEL_4208b712cbab4efba152da1f480fe712",
            "_dom_classes": [],
            "description": "Downloading: 100%",
            "_model_name": "IntProgressModel",
            "bar_style": "success",
            "max": 231508,
            "_view_module": "@jupyter-widgets/controls",
            "_model_module_version": "1.5.0",
            "value": 231508,
            "_view_count": null,
            "_view_module_version": "1.5.0",
            "orientation": "horizontal",
            "min": 0,
            "description_tooltip": null,
            "_model_module": "@jupyter-widgets/controls",
            "layout": "IPY_MODEL_014012436fd945adb25984fd2f02c288"
          }
        },
        "04ead33e33dd4c8fbd900babdf8ec803": {
          "model_module": "@jupyter-widgets/controls",
          "model_name": "HTMLModel",
          "state": {
            "_view_name": "HTMLView",
            "style": "IPY_MODEL_cbd8dc0c90804680babf77ddeeb4b18c",
            "_dom_classes": [],
            "description": "",
            "_model_name": "HTMLModel",
            "placeholder": "​",
            "_view_module": "@jupyter-widgets/controls",
            "_model_module_version": "1.5.0",
            "value": " 232k/232k [00:00&lt;00:00, 304kB/s]",
            "_view_count": null,
            "_view_module_version": "1.5.0",
            "description_tooltip": null,
            "_model_module": "@jupyter-widgets/controls",
            "layout": "IPY_MODEL_a170aa827acc4fc48511207080b43c78"
          }
        },
        "4208b712cbab4efba152da1f480fe712": {
          "model_module": "@jupyter-widgets/controls",
          "model_name": "ProgressStyleModel",
          "state": {
            "_view_name": "StyleView",
            "_model_name": "ProgressStyleModel",
            "description_width": "initial",
            "_view_module": "@jupyter-widgets/base",
            "_model_module_version": "1.5.0",
            "_view_count": null,
            "_view_module_version": "1.2.0",
            "bar_color": null,
            "_model_module": "@jupyter-widgets/controls"
          }
        },
        "014012436fd945adb25984fd2f02c288": {
          "model_module": "@jupyter-widgets/base",
          "model_name": "LayoutModel",
          "state": {
            "_view_name": "LayoutView",
            "grid_template_rows": null,
            "right": null,
            "justify_content": null,
            "_view_module": "@jupyter-widgets/base",
            "overflow": null,
            "_model_module_version": "1.2.0",
            "_view_count": null,
            "flex_flow": null,
            "width": null,
            "min_width": null,
            "border": null,
            "align_items": null,
            "bottom": null,
            "_model_module": "@jupyter-widgets/base",
            "top": null,
            "grid_column": null,
            "overflow_y": null,
            "overflow_x": null,
            "grid_auto_flow": null,
            "grid_area": null,
            "grid_template_columns": null,
            "flex": null,
            "_model_name": "LayoutModel",
            "justify_items": null,
            "grid_row": null,
            "max_height": null,
            "align_content": null,
            "visibility": null,
            "align_self": null,
            "height": null,
            "min_height": null,
            "padding": null,
            "grid_auto_rows": null,
            "grid_gap": null,
            "max_width": null,
            "order": null,
            "_view_module_version": "1.2.0",
            "grid_template_areas": null,
            "object_position": null,
            "object_fit": null,
            "grid_auto_columns": null,
            "margin": null,
            "display": null,
            "left": null
          }
        },
        "cbd8dc0c90804680babf77ddeeb4b18c": {
          "model_module": "@jupyter-widgets/controls",
          "model_name": "DescriptionStyleModel",
          "state": {
            "_view_name": "StyleView",
            "_model_name": "DescriptionStyleModel",
            "description_width": "",
            "_view_module": "@jupyter-widgets/base",
            "_model_module_version": "1.5.0",
            "_view_count": null,
            "_view_module_version": "1.2.0",
            "_model_module": "@jupyter-widgets/controls"
          }
        },
        "a170aa827acc4fc48511207080b43c78": {
          "model_module": "@jupyter-widgets/base",
          "model_name": "LayoutModel",
          "state": {
            "_view_name": "LayoutView",
            "grid_template_rows": null,
            "right": null,
            "justify_content": null,
            "_view_module": "@jupyter-widgets/base",
            "overflow": null,
            "_model_module_version": "1.2.0",
            "_view_count": null,
            "flex_flow": null,
            "width": null,
            "min_width": null,
            "border": null,
            "align_items": null,
            "bottom": null,
            "_model_module": "@jupyter-widgets/base",
            "top": null,
            "grid_column": null,
            "overflow_y": null,
            "overflow_x": null,
            "grid_auto_flow": null,
            "grid_area": null,
            "grid_template_columns": null,
            "flex": null,
            "_model_name": "LayoutModel",
            "justify_items": null,
            "grid_row": null,
            "max_height": null,
            "align_content": null,
            "visibility": null,
            "align_self": null,
            "height": null,
            "min_height": null,
            "padding": null,
            "grid_auto_rows": null,
            "grid_gap": null,
            "max_width": null,
            "order": null,
            "_view_module_version": "1.2.0",
            "grid_template_areas": null,
            "object_position": null,
            "object_fit": null,
            "grid_auto_columns": null,
            "margin": null,
            "display": null,
            "left": null
          }
        },
        "ec609c3e48d2477eb00c3072d5871929": {
          "model_module": "@jupyter-widgets/controls",
          "model_name": "HBoxModel",
          "state": {
            "_view_name": "HBoxView",
            "_dom_classes": [],
            "_model_name": "HBoxModel",
            "_view_module": "@jupyter-widgets/controls",
            "_model_module_version": "1.5.0",
            "_view_count": null,
            "_view_module_version": "1.5.0",
            "box_style": "",
            "layout": "IPY_MODEL_3aaadd0c4a56431c9e79b2138a83ea2e",
            "_model_module": "@jupyter-widgets/controls",
            "children": [
              "IPY_MODEL_80e36d70372b48d0ab7f530ecd6f3e06",
              "IPY_MODEL_d9685b00a63c4bdc88cbe8dbeda52d8e"
            ]
          }
        },
        "3aaadd0c4a56431c9e79b2138a83ea2e": {
          "model_module": "@jupyter-widgets/base",
          "model_name": "LayoutModel",
          "state": {
            "_view_name": "LayoutView",
            "grid_template_rows": null,
            "right": null,
            "justify_content": null,
            "_view_module": "@jupyter-widgets/base",
            "overflow": null,
            "_model_module_version": "1.2.0",
            "_view_count": null,
            "flex_flow": null,
            "width": null,
            "min_width": null,
            "border": null,
            "align_items": null,
            "bottom": null,
            "_model_module": "@jupyter-widgets/base",
            "top": null,
            "grid_column": null,
            "overflow_y": null,
            "overflow_x": null,
            "grid_auto_flow": null,
            "grid_area": null,
            "grid_template_columns": null,
            "flex": null,
            "_model_name": "LayoutModel",
            "justify_items": null,
            "grid_row": null,
            "max_height": null,
            "align_content": null,
            "visibility": null,
            "align_self": null,
            "height": null,
            "min_height": null,
            "padding": null,
            "grid_auto_rows": null,
            "grid_gap": null,
            "max_width": null,
            "order": null,
            "_view_module_version": "1.2.0",
            "grid_template_areas": null,
            "object_position": null,
            "object_fit": null,
            "grid_auto_columns": null,
            "margin": null,
            "display": null,
            "left": null
          }
        },
        "80e36d70372b48d0ab7f530ecd6f3e06": {
          "model_module": "@jupyter-widgets/controls",
          "model_name": "IntProgressModel",
          "state": {
            "_view_name": "ProgressView",
            "style": "IPY_MODEL_1cc0a21179564825a42532d1840b2650",
            "_dom_classes": [],
            "description": "Downloading: 100%",
            "_model_name": "IntProgressModel",
            "bar_style": "success",
            "max": 361,
            "_view_module": "@jupyter-widgets/controls",
            "_model_module_version": "1.5.0",
            "value": 361,
            "_view_count": null,
            "_view_module_version": "1.5.0",
            "orientation": "horizontal",
            "min": 0,
            "description_tooltip": null,
            "_model_module": "@jupyter-widgets/controls",
            "layout": "IPY_MODEL_a7a524e2f114486b94532372f595d1c4"
          }
        },
        "d9685b00a63c4bdc88cbe8dbeda52d8e": {
          "model_module": "@jupyter-widgets/controls",
          "model_name": "HTMLModel",
          "state": {
            "_view_name": "HTMLView",
            "style": "IPY_MODEL_71e9615ac1b54521a9c45f36e42d6c11",
            "_dom_classes": [],
            "description": "",
            "_model_name": "HTMLModel",
            "placeholder": "​",
            "_view_module": "@jupyter-widgets/controls",
            "_model_module_version": "1.5.0",
            "value": " 361/361 [00:39&lt;00:00, 9.20B/s]",
            "_view_count": null,
            "_view_module_version": "1.5.0",
            "description_tooltip": null,
            "_model_module": "@jupyter-widgets/controls",
            "layout": "IPY_MODEL_db9bbf10b24e4abcb9175fa7fe8a5ec8"
          }
        },
        "1cc0a21179564825a42532d1840b2650": {
          "model_module": "@jupyter-widgets/controls",
          "model_name": "ProgressStyleModel",
          "state": {
            "_view_name": "StyleView",
            "_model_name": "ProgressStyleModel",
            "description_width": "initial",
            "_view_module": "@jupyter-widgets/base",
            "_model_module_version": "1.5.0",
            "_view_count": null,
            "_view_module_version": "1.2.0",
            "bar_color": null,
            "_model_module": "@jupyter-widgets/controls"
          }
        },
        "a7a524e2f114486b94532372f595d1c4": {
          "model_module": "@jupyter-widgets/base",
          "model_name": "LayoutModel",
          "state": {
            "_view_name": "LayoutView",
            "grid_template_rows": null,
            "right": null,
            "justify_content": null,
            "_view_module": "@jupyter-widgets/base",
            "overflow": null,
            "_model_module_version": "1.2.0",
            "_view_count": null,
            "flex_flow": null,
            "width": null,
            "min_width": null,
            "border": null,
            "align_items": null,
            "bottom": null,
            "_model_module": "@jupyter-widgets/base",
            "top": null,
            "grid_column": null,
            "overflow_y": null,
            "overflow_x": null,
            "grid_auto_flow": null,
            "grid_area": null,
            "grid_template_columns": null,
            "flex": null,
            "_model_name": "LayoutModel",
            "justify_items": null,
            "grid_row": null,
            "max_height": null,
            "align_content": null,
            "visibility": null,
            "align_self": null,
            "height": null,
            "min_height": null,
            "padding": null,
            "grid_auto_rows": null,
            "grid_gap": null,
            "max_width": null,
            "order": null,
            "_view_module_version": "1.2.0",
            "grid_template_areas": null,
            "object_position": null,
            "object_fit": null,
            "grid_auto_columns": null,
            "margin": null,
            "display": null,
            "left": null
          }
        },
        "71e9615ac1b54521a9c45f36e42d6c11": {
          "model_module": "@jupyter-widgets/controls",
          "model_name": "DescriptionStyleModel",
          "state": {
            "_view_name": "StyleView",
            "_model_name": "DescriptionStyleModel",
            "description_width": "",
            "_view_module": "@jupyter-widgets/base",
            "_model_module_version": "1.5.0",
            "_view_count": null,
            "_view_module_version": "1.2.0",
            "_model_module": "@jupyter-widgets/controls"
          }
        },
        "db9bbf10b24e4abcb9175fa7fe8a5ec8": {
          "model_module": "@jupyter-widgets/base",
          "model_name": "LayoutModel",
          "state": {
            "_view_name": "LayoutView",
            "grid_template_rows": null,
            "right": null,
            "justify_content": null,
            "_view_module": "@jupyter-widgets/base",
            "overflow": null,
            "_model_module_version": "1.2.0",
            "_view_count": null,
            "flex_flow": null,
            "width": null,
            "min_width": null,
            "border": null,
            "align_items": null,
            "bottom": null,
            "_model_module": "@jupyter-widgets/base",
            "top": null,
            "grid_column": null,
            "overflow_y": null,
            "overflow_x": null,
            "grid_auto_flow": null,
            "grid_area": null,
            "grid_template_columns": null,
            "flex": null,
            "_model_name": "LayoutModel",
            "justify_items": null,
            "grid_row": null,
            "max_height": null,
            "align_content": null,
            "visibility": null,
            "align_self": null,
            "height": null,
            "min_height": null,
            "padding": null,
            "grid_auto_rows": null,
            "grid_gap": null,
            "max_width": null,
            "order": null,
            "_view_module_version": "1.2.0",
            "grid_template_areas": null,
            "object_position": null,
            "object_fit": null,
            "grid_auto_columns": null,
            "margin": null,
            "display": null,
            "left": null
          }
        },
        "8751d2e5a95e450293a5560dad618231": {
          "model_module": "@jupyter-widgets/controls",
          "model_name": "HBoxModel",
          "state": {
            "_view_name": "HBoxView",
            "_dom_classes": [],
            "_model_name": "HBoxModel",
            "_view_module": "@jupyter-widgets/controls",
            "_model_module_version": "1.5.0",
            "_view_count": null,
            "_view_module_version": "1.5.0",
            "box_style": "",
            "layout": "IPY_MODEL_9b564727c5c348bf88d35e022d2a30c7",
            "_model_module": "@jupyter-widgets/controls",
            "children": [
              "IPY_MODEL_63bfe1379d3d4f5db3d143f35fef76da",
              "IPY_MODEL_e2be1e853dd14c3990b49706783829ed"
            ]
          }
        },
        "9b564727c5c348bf88d35e022d2a30c7": {
          "model_module": "@jupyter-widgets/base",
          "model_name": "LayoutModel",
          "state": {
            "_view_name": "LayoutView",
            "grid_template_rows": null,
            "right": null,
            "justify_content": null,
            "_view_module": "@jupyter-widgets/base",
            "overflow": null,
            "_model_module_version": "1.2.0",
            "_view_count": null,
            "flex_flow": null,
            "width": null,
            "min_width": null,
            "border": null,
            "align_items": null,
            "bottom": null,
            "_model_module": "@jupyter-widgets/base",
            "top": null,
            "grid_column": null,
            "overflow_y": null,
            "overflow_x": null,
            "grid_auto_flow": null,
            "grid_area": null,
            "grid_template_columns": null,
            "flex": null,
            "_model_name": "LayoutModel",
            "justify_items": null,
            "grid_row": null,
            "max_height": null,
            "align_content": null,
            "visibility": null,
            "align_self": null,
            "height": null,
            "min_height": null,
            "padding": null,
            "grid_auto_rows": null,
            "grid_gap": null,
            "max_width": null,
            "order": null,
            "_view_module_version": "1.2.0",
            "grid_template_areas": null,
            "object_position": null,
            "object_fit": null,
            "grid_auto_columns": null,
            "margin": null,
            "display": null,
            "left": null
          }
        },
        "63bfe1379d3d4f5db3d143f35fef76da": {
          "model_module": "@jupyter-widgets/controls",
          "model_name": "IntProgressModel",
          "state": {
            "_view_name": "ProgressView",
            "style": "IPY_MODEL_b749e6477e764a4da69ddbc0f4df7576",
            "_dom_classes": [],
            "description": "Downloading: 100%",
            "_model_name": "IntProgressModel",
            "bar_style": "success",
            "max": 440473133,
            "_view_module": "@jupyter-widgets/controls",
            "_model_module_version": "1.5.0",
            "value": 440473133,
            "_view_count": null,
            "_view_module_version": "1.5.0",
            "orientation": "horizontal",
            "min": 0,
            "description_tooltip": null,
            "_model_module": "@jupyter-widgets/controls",
            "layout": "IPY_MODEL_da29dc3020e04ab5b1a258d7cbda7481"
          }
        },
        "e2be1e853dd14c3990b49706783829ed": {
          "model_module": "@jupyter-widgets/controls",
          "model_name": "HTMLModel",
          "state": {
            "_view_name": "HTMLView",
            "style": "IPY_MODEL_e0212391538b4f9885b43baf8118407c",
            "_dom_classes": [],
            "description": "",
            "_model_name": "HTMLModel",
            "placeholder": "​",
            "_view_module": "@jupyter-widgets/controls",
            "_model_module_version": "1.5.0",
            "value": " 440M/440M [00:37&lt;00:00, 11.7MB/s]",
            "_view_count": null,
            "_view_module_version": "1.5.0",
            "description_tooltip": null,
            "_model_module": "@jupyter-widgets/controls",
            "layout": "IPY_MODEL_a24e3310686a4cff8d618f331d775e39"
          }
        },
        "b749e6477e764a4da69ddbc0f4df7576": {
          "model_module": "@jupyter-widgets/controls",
          "model_name": "ProgressStyleModel",
          "state": {
            "_view_name": "StyleView",
            "_model_name": "ProgressStyleModel",
            "description_width": "initial",
            "_view_module": "@jupyter-widgets/base",
            "_model_module_version": "1.5.0",
            "_view_count": null,
            "_view_module_version": "1.2.0",
            "bar_color": null,
            "_model_module": "@jupyter-widgets/controls"
          }
        },
        "da29dc3020e04ab5b1a258d7cbda7481": {
          "model_module": "@jupyter-widgets/base",
          "model_name": "LayoutModel",
          "state": {
            "_view_name": "LayoutView",
            "grid_template_rows": null,
            "right": null,
            "justify_content": null,
            "_view_module": "@jupyter-widgets/base",
            "overflow": null,
            "_model_module_version": "1.2.0",
            "_view_count": null,
            "flex_flow": null,
            "width": null,
            "min_width": null,
            "border": null,
            "align_items": null,
            "bottom": null,
            "_model_module": "@jupyter-widgets/base",
            "top": null,
            "grid_column": null,
            "overflow_y": null,
            "overflow_x": null,
            "grid_auto_flow": null,
            "grid_area": null,
            "grid_template_columns": null,
            "flex": null,
            "_model_name": "LayoutModel",
            "justify_items": null,
            "grid_row": null,
            "max_height": null,
            "align_content": null,
            "visibility": null,
            "align_self": null,
            "height": null,
            "min_height": null,
            "padding": null,
            "grid_auto_rows": null,
            "grid_gap": null,
            "max_width": null,
            "order": null,
            "_view_module_version": "1.2.0",
            "grid_template_areas": null,
            "object_position": null,
            "object_fit": null,
            "grid_auto_columns": null,
            "margin": null,
            "display": null,
            "left": null
          }
        },
        "e0212391538b4f9885b43baf8118407c": {
          "model_module": "@jupyter-widgets/controls",
          "model_name": "DescriptionStyleModel",
          "state": {
            "_view_name": "StyleView",
            "_model_name": "DescriptionStyleModel",
            "description_width": "",
            "_view_module": "@jupyter-widgets/base",
            "_model_module_version": "1.5.0",
            "_view_count": null,
            "_view_module_version": "1.2.0",
            "_model_module": "@jupyter-widgets/controls"
          }
        },
        "a24e3310686a4cff8d618f331d775e39": {
          "model_module": "@jupyter-widgets/base",
          "model_name": "LayoutModel",
          "state": {
            "_view_name": "LayoutView",
            "grid_template_rows": null,
            "right": null,
            "justify_content": null,
            "_view_module": "@jupyter-widgets/base",
            "overflow": null,
            "_model_module_version": "1.2.0",
            "_view_count": null,
            "flex_flow": null,
            "width": null,
            "min_width": null,
            "border": null,
            "align_items": null,
            "bottom": null,
            "_model_module": "@jupyter-widgets/base",
            "top": null,
            "grid_column": null,
            "overflow_y": null,
            "overflow_x": null,
            "grid_auto_flow": null,
            "grid_area": null,
            "grid_template_columns": null,
            "flex": null,
            "_model_name": "LayoutModel",
            "justify_items": null,
            "grid_row": null,
            "max_height": null,
            "align_content": null,
            "visibility": null,
            "align_self": null,
            "height": null,
            "min_height": null,
            "padding": null,
            "grid_auto_rows": null,
            "grid_gap": null,
            "max_width": null,
            "order": null,
            "_view_module_version": "1.2.0",
            "grid_template_areas": null,
            "object_position": null,
            "object_fit": null,
            "grid_auto_columns": null,
            "margin": null,
            "display": null,
            "left": null
          }
        }
      }
    }
  },
  "cells": [
    {
      "cell_type": "markdown",
      "metadata": {
        "id": "As18CsZfnD65",
        "colab_type": "text"
      },
      "source": [
        "#Predict score field by text and parent_text fields."
      ]
    },
    {
      "cell_type": "code",
      "metadata": {
        "id": "yp1tJzn0xjiQ",
        "colab_type": "code",
        "colab": {}
      },
      "source": [
        "!pip install transformers\n",
        "!pip install --upgrade wandb\n",
        "!wandb login"
      ],
      "execution_count": 0,
      "outputs": []
    },
    {
      "cell_type": "code",
      "metadata": {
        "id": "tvCguj33mhOG",
        "colab_type": "code",
        "colab": {}
      },
      "source": [
        "import wandb\n",
        "\n",
        "import re\n",
        "import string\n",
        "\n",
        "import numpy as np\n",
        "import pandas as pd\n",
        "import matplotlib.pyplot as plt \n",
        "from tqdm import tqdm\n",
        "from sklearn.model_selection import train_test_split\n",
        "from sklearn.metrics import mean_squared_error\n",
        "from sklearn.preprocessing import StandardScaler, MinMaxScaler\n",
        "\n",
        "import torch\n",
        "from torchtext  import data\n",
        "import torch.nn as nn\n",
        "import torch.nn.functional as F\n",
        "import torch.optim as optim\n",
        "\n",
        "from transformers import BertTokenizer, BertModel, DistilBertTokenizer, DistilBertModel\n",
        "\n",
        "SEED = 43\n",
        "np.random.seed(SEED)\n",
        "torch.manual_seed(SEED)\n",
        "\n",
        "import warnings\n",
        "warnings.filterwarnings('ignore')"
      ],
      "execution_count": 0,
      "outputs": []
    },
    {
      "cell_type": "code",
      "metadata": {
        "id": "RGqFcKde4iu6",
        "colab_type": "code",
        "outputId": "416bb0e6-4553-4d63-b49f-73bd4bb1a15f",
        "colab": {
          "base_uri": "https://localhost:8080/",
          "height": 34
        }
      },
      "source": [
        "device = torch.device(\"cuda\" if torch.cuda.is_available() else \"cpu\")\n",
        "device"
      ],
      "execution_count": 4,
      "outputs": [
        {
          "output_type": "execute_result",
          "data": {
            "text/plain": [
              "device(type='cuda')"
            ]
          },
          "metadata": {
            "tags": []
          },
          "execution_count": 4
        }
      ]
    },
    {
      "cell_type": "code",
      "metadata": {
        "id": "4DkkyN6vX3IK",
        "colab_type": "code",
        "colab": {}
      },
      "source": [
        "from google.colab import drive\n",
        "drive.mount('/content/drive')"
      ],
      "execution_count": 0,
      "outputs": []
    },
    {
      "cell_type": "markdown",
      "metadata": {
        "id": "tL9DCJ5ICZz2",
        "colab_type": "text"
      },
      "source": [
        "# Data Preparation"
      ]
    },
    {
      "cell_type": "code",
      "metadata": {
        "id": "HqX_gy3gnLWN",
        "colab_type": "code",
        "colab": {}
      },
      "source": [
        "columns = [\"text\", \"parent_text\", \"score\"]\n",
        "df = pd.concat([\n",
        "    pd.read_csv(\"/content/drive/My Drive/jetbrains/comments_positive.csv\", usecols=columns, na_filter=False),\n",
        "    pd.read_csv(\"/content/drive/My Drive/jetbrains/comments_negative.csv\", usecols=columns, na_filter=False)\n",
        "], ignore_index=True)"
      ],
      "execution_count": 0,
      "outputs": []
    },
    {
      "cell_type": "code",
      "metadata": {
        "id": "Iy18G_eTnO-V",
        "colab_type": "code",
        "colab": {}
      },
      "source": [
        "y = df['score']\n",
        "df.drop(columns='score', inplace=True)\n",
        "X = df"
      ],
      "execution_count": 0,
      "outputs": []
    },
    {
      "cell_type": "code",
      "metadata": {
        "id": "81-l2_RtnRIK",
        "colab_type": "code",
        "outputId": "6a2dc44d-2a0b-4db8-9594-e7313a18db87",
        "colab": {
          "base_uri": "https://localhost:8080/",
          "height": 50
        }
      },
      "source": [
        "X_train, X_test, y_train, y_test = train_test_split(X, y, test_size=0.05, random_state=SEED)\n",
        "\n",
        "# To be sure we don't use indices to predict something\n",
        "X_train.reset_index(drop=True, inplace=True)\n",
        "X_test.reset_index(drop=True, inplace=True)\n",
        "y_train.reset_index(drop=True, inplace=True)\n",
        "y_test.reset_index(drop=True, inplace=True)\n",
        "\n",
        "print(\"Train shape: {}\".format(X_train.shape))\n",
        "print(\"Test shape: {}\".format(X_test.shape))"
      ],
      "execution_count": 8,
      "outputs": [
        {
          "output_type": "stream",
          "text": [
            "Train shape: (3800000, 2)\n",
            "Test shape: (200000, 2)\n"
          ],
          "name": "stdout"
        }
      ]
    },
    {
      "cell_type": "code",
      "metadata": {
        "id": "15mHj9Rt43Sn",
        "colab_type": "code",
        "outputId": "4db4ac9f-1148-4945-f8b3-99436380a199",
        "colab": {
          "base_uri": "https://localhost:8080/",
          "height": 195
        }
      },
      "source": [
        "X_train.head()"
      ],
      "execution_count": 9,
      "outputs": [
        {
          "output_type": "execute_result",
          "data": {
            "text/html": [
              "<div>\n",
              "<style scoped>\n",
              "    .dataframe tbody tr th:only-of-type {\n",
              "        vertical-align: middle;\n",
              "    }\n",
              "\n",
              "    .dataframe tbody tr th {\n",
              "        vertical-align: top;\n",
              "    }\n",
              "\n",
              "    .dataframe thead th {\n",
              "        text-align: right;\n",
              "    }\n",
              "</style>\n",
              "<table border=\"1\" class=\"dataframe\">\n",
              "  <thead>\n",
              "    <tr style=\"text-align: right;\">\n",
              "      <th></th>\n",
              "      <th>text</th>\n",
              "      <th>parent_text</th>\n",
              "    </tr>\n",
              "  </thead>\n",
              "  <tbody>\n",
              "    <tr>\n",
              "      <th>0</th>\n",
              "      <td>I was a whole bunch of folks on Recess, yup. :...</td>\n",
              "      <td>Your IMDB just blew my mind. You were Upside D...</td>\n",
              "    </tr>\n",
              "    <tr>\n",
              "      <th>1</th>\n",
              "      <td>I'm not quite sure how that was relevant, but ...</td>\n",
              "      <td>http://i.imgur.com/GKLI7.jpg</td>\n",
              "    </tr>\n",
              "    <tr>\n",
              "      <th>2</th>\n",
              "      <td>Sounds like you weren't paying attention.</td>\n",
              "      <td>Sadly high school history doesn't teach you ab...</td>\n",
              "    </tr>\n",
              "    <tr>\n",
              "      <th>3</th>\n",
              "      <td>&amp;gt;Polygamy doesn't mean that there's just wo...</td>\n",
              "      <td>&amp;gt; from a feminist perspective \\n\\nSo what i...</td>\n",
              "    </tr>\n",
              "    <tr>\n",
              "      <th>4</th>\n",
              "      <td>The New Orleans Gargle-Glub-Glubs.</td>\n",
              "      <td>My high school's mascot was water...</td>\n",
              "    </tr>\n",
              "  </tbody>\n",
              "</table>\n",
              "</div>"
            ],
            "text/plain": [
              "                                                text                                        parent_text\n",
              "0  I was a whole bunch of folks on Recess, yup. :...  Your IMDB just blew my mind. You were Upside D...\n",
              "1  I'm not quite sure how that was relevant, but ...                       http://i.imgur.com/GKLI7.jpg\n",
              "2          Sounds like you weren't paying attention.  Sadly high school history doesn't teach you ab...\n",
              "3  &gt;Polygamy doesn't mean that there's just wo...  &gt; from a feminist perspective \\n\\nSo what i...\n",
              "4                 The New Orleans Gargle-Glub-Glubs.               My high school's mascot was water..."
            ]
          },
          "metadata": {
            "tags": []
          },
          "execution_count": 9
        }
      ]
    },
    {
      "cell_type": "code",
      "metadata": {
        "id": "sVOsJO8uy3ff",
        "colab_type": "code",
        "outputId": "5339a950-aeb7-4380-a32b-2c5751bd8b9e",
        "colab": {
          "base_uri": "https://localhost:8080/",
          "height": 118
        }
      },
      "source": [
        "y_train.head()"
      ],
      "execution_count": 10,
      "outputs": [
        {
          "output_type": "execute_result",
          "data": {
            "text/plain": [
              "0    454\n",
              "1     71\n",
              "2     -9\n",
              "3    -12\n",
              "4     91\n",
              "Name: score, dtype: int64"
            ]
          },
          "metadata": {
            "tags": []
          },
          "execution_count": 10
        }
      ]
    },
    {
      "cell_type": "code",
      "metadata": {
        "id": "VhWNHd95lSYd",
        "colab_type": "code",
        "outputId": "1c458e88-21ec-4813-cad3-8403c9894d36",
        "colab": {
          "base_uri": "https://localhost:8080/",
          "height": 168
        }
      },
      "source": [
        "y_train.describe()"
      ],
      "execution_count": 11,
      "outputs": [
        {
          "output_type": "execute_result",
          "data": {
            "text/plain": [
              "count    3.800000e+06\n",
              "mean     9.188734e+01\n",
              "std      2.118246e+02\n",
              "min     -2.946000e+03\n",
              "25%     -1.000000e+01\n",
              "50%      6.600000e+01\n",
              "75%      1.160000e+02\n",
              "max      9.582000e+03\n",
              "Name: score, dtype: float64"
            ]
          },
          "metadata": {
            "tags": []
          },
          "execution_count": 11
        }
      ]
    },
    {
      "cell_type": "code",
      "metadata": {
        "id": "_qAL_POGlvXP",
        "colab_type": "code",
        "outputId": "f9a04c4d-8da6-4674-b3a1-a1af6a9a15eb",
        "colab": {
          "base_uri": "https://localhost:8080/",
          "height": 168
        }
      },
      "source": [
        "y_test.describe()"
      ],
      "execution_count": 12,
      "outputs": [
        {
          "output_type": "execute_result",
          "data": {
            "text/plain": [
              "count    200000.000000\n",
              "mean         91.988825\n",
              "std         210.331459\n",
              "min        -812.000000\n",
              "25%         -10.000000\n",
              "50%          -6.000000\n",
              "75%         116.000000\n",
              "max        5665.000000\n",
              "Name: score, dtype: float64"
            ]
          },
          "metadata": {
            "tags": []
          },
          "execution_count": 12
        }
      ]
    },
    {
      "cell_type": "markdown",
      "metadata": {
        "id": "eTJTGLg9gcpe",
        "colab_type": "text"
      },
      "source": [
        "## Cleaning the data"
      ]
    },
    {
      "cell_type": "markdown",
      "metadata": {
        "id": "ywrucHXSgf77",
        "colab_type": "text"
      },
      "source": [
        "Т.к. некоторые тексты - это просто смайлики или нечитаемые бессмысленные вещи, то их было решено удалить. Также были удалены строки, если после очисти они были пустыми. "
      ]
    },
    {
      "cell_type": "code",
      "metadata": {
        "id": "sscXdsqeGEKg",
        "colab_type": "code",
        "colab": {}
      },
      "source": [
        "def clean_text(text):\n",
        "    text = re.sub(r'\\<[^>]*\\>', '', text)\n",
        "    text = re.sub(r'\\\\n', ' ', text)\n",
        "    text = re.sub(r'&[a-z]{0,7};', ' ', text)\n",
        "    text = re.sub('((www\\.[^\\s]+)|(https?://[^\\s]+))','URL',text)\n",
        "    text = re.sub('@[^\\s]+','AT_USER',text)\n",
        "    text = re.sub(r'\\\\x\\d{1,4}', '', text)\n",
        "    text = re.sub(r'\\\\n', ' ', text)\n",
        "    text = re.sub(r'\\r', ' ', text)\n",
        "    text = re.sub('[\\s]+', ' ', text)\n",
        "    text = text.translate(str.maketrans('', '', string.punctuation))\n",
        "    text = text.lower()\n",
        "    return text\n",
        "\n",
        "def clean_df(df, y, text_cleaner, train=True):\n",
        "    \"\"\"\n",
        "    Apply text_cleaner to df columns and deleting empty rows.\n",
        "\n",
        "    Args:\n",
        "        df : initial DataFrame\n",
        "        y : target values\n",
        "        text_cleaner: function to apply to 'text' and 'parent_text' columns\n",
        "\n",
        "    Returns:\n",
        "        Pandas DataFrame with rating coumns as well\n",
        "    \"\"\"\n",
        "    df_cleaned = pd.DataFrame()\n",
        "    df_cleaned['text'] = df['text'].apply(lambda x: text_cleaner(x))\n",
        "    df_cleaned['parent_text'] = df['parent_text'].apply(lambda x: text_cleaner(x))\n",
        "    df_cleaned['rating'] = y    \n",
        "\n",
        "    if train:\n",
        "        replacing = {'':np.nan, 'null':np.nan, 'NaN':np.nan, 'NA':np.nan}\n",
        "    else:\n",
        "        replacing = {'':'empty', 'null':'empty', 'NaN':'empty', 'NA':'empty'}\n",
        "    df_cleaned['text'].replace(to_replace=replacing, value=None, inplace=True)\n",
        "    df_cleaned['parent_text'].replace(to_replace=replacing, value=None, inplace=True)\n",
        "    df_cleaned.dropna(subset=['text', 'parent_text', 'rating'], inplace=True)\n",
        "    return df_cleaned\n",
        "\n",
        "def scale_y(df, standart=True, training=True, scaler=None):\n",
        "    \"\"\"\n",
        "    Transforms rating score with StandardScaler or MinMaxScaler\n",
        "    Returns pd.DataFrame with new column 'rating_scaled', scaler\n",
        "    \"\"\"\n",
        "    if training:  \n",
        "        scaler = StandardScaler() if standart else MinMaxScaler()     \n",
        "        X = np.array(list(df['rating'])).reshape(-1,1)\n",
        "        scaler.fit(X)\n",
        "    df['rating_scaled'] = df['rating'].apply(lambda x : scaler.transform(np.array(x).reshape(1,-1))[0][0])\n",
        "    return df, scaler"
      ],
      "execution_count": 0,
      "outputs": []
    },
    {
      "cell_type": "markdown",
      "metadata": {
        "id": "X8BVy4feeS3i",
        "colab_type": "text"
      },
      "source": [
        "Т.к. данных очень много, было решено использовать часть выборки для подбора архитектуры модели, гиперпараметров (подробнее будет ниже). \n",
        "\n",
        "Так, N - размер тренировочной выборки. После выбранные модели уже были обучены на всех данных. "
      ]
    },
    {
      "cell_type": "code",
      "metadata": {
        "id": "udkZI1k3B6Ar",
        "colab_type": "code",
        "colab": {}
      },
      "source": [
        "# N = 1000000\n",
        "# train = clean_df(X_train[:N], y_train[:N], clean_text)"
      ],
      "execution_count": 0,
      "outputs": []
    },
    {
      "cell_type": "code",
      "metadata": {
        "id": "PeeW0FxXj1c_",
        "colab_type": "code",
        "outputId": "98aac8cd-013a-4ee6-fc42-a06271c8ebc3",
        "colab": {
          "base_uri": "https://localhost:8080/",
          "height": 34
        }
      },
      "source": [
        "train = clean_df(X_train, y_train, clean_text)\n",
        "test = clean_df(X_test, y_test, clean_text, train=False)\n",
        "train.shape, X_train.shape, test.shape, X_test.shape"
      ],
      "execution_count": 14,
      "outputs": [
        {
          "output_type": "execute_result",
          "data": {
            "text/plain": [
              "((3795473, 3), (3800000, 2), (200000, 3), (200000, 2))"
            ]
          },
          "metadata": {
            "tags": []
          },
          "execution_count": 14
        }
      ]
    },
    {
      "cell_type": "code",
      "metadata": {
        "id": "e87CQ7Hjmzor",
        "colab_type": "code",
        "outputId": "3879a2eb-8a01-4c59-9bb3-532910d54279",
        "colab": {
          "base_uri": "https://localhost:8080/",
          "height": 195
        }
      },
      "source": [
        "train, scaler = scale_y(train)\n",
        "test, scaler  = scale_y(test, training=False, scaler=scaler)\n",
        "train.head()"
      ],
      "execution_count": 15,
      "outputs": [
        {
          "output_type": "execute_result",
          "data": {
            "text/html": [
              "<div>\n",
              "<style scoped>\n",
              "    .dataframe tbody tr th:only-of-type {\n",
              "        vertical-align: middle;\n",
              "    }\n",
              "\n",
              "    .dataframe tbody tr th {\n",
              "        vertical-align: top;\n",
              "    }\n",
              "\n",
              "    .dataframe thead th {\n",
              "        text-align: right;\n",
              "    }\n",
              "</style>\n",
              "<table border=\"1\" class=\"dataframe\">\n",
              "  <thead>\n",
              "    <tr style=\"text-align: right;\">\n",
              "      <th></th>\n",
              "      <th>text</th>\n",
              "      <th>parent_text</th>\n",
              "      <th>rating</th>\n",
              "      <th>rating_scaled</th>\n",
              "    </tr>\n",
              "  </thead>\n",
              "  <tbody>\n",
              "    <tr>\n",
              "      <th>0</th>\n",
              "      <td>i was a whole bunch of folks on recess yup  th...</td>\n",
              "      <td>your imdb just blew my mind you were upside do...</td>\n",
              "      <td>454</td>\n",
              "      <td>1.709521</td>\n",
              "    </tr>\n",
              "    <tr>\n",
              "      <th>1</th>\n",
              "      <td>im not quite sure how that was relevant but im...</td>\n",
              "      <td>url</td>\n",
              "      <td>71</td>\n",
              "      <td>-0.098651</td>\n",
              "    </tr>\n",
              "    <tr>\n",
              "      <th>2</th>\n",
              "      <td>sounds like you werent paying attention</td>\n",
              "      <td>sadly high school history doesnt teach you abo...</td>\n",
              "      <td>-9</td>\n",
              "      <td>-0.476337</td>\n",
              "    </tr>\n",
              "    <tr>\n",
              "      <th>3</th>\n",
              "      <td>polygamy doesnt mean that theres just women i...</td>\n",
              "      <td>from a feminist perspective so what if you wo...</td>\n",
              "      <td>-12</td>\n",
              "      <td>-0.490500</td>\n",
              "    </tr>\n",
              "    <tr>\n",
              "      <th>4</th>\n",
              "      <td>the new orleans gargleglubglubs</td>\n",
              "      <td>my high schools mascot was water</td>\n",
              "      <td>91</td>\n",
              "      <td>-0.004229</td>\n",
              "    </tr>\n",
              "  </tbody>\n",
              "</table>\n",
              "</div>"
            ],
            "text/plain": [
              "                                                text  ... rating_scaled\n",
              "0  i was a whole bunch of folks on recess yup  th...  ...      1.709521\n",
              "1  im not quite sure how that was relevant but im...  ...     -0.098651\n",
              "2            sounds like you werent paying attention  ...     -0.476337\n",
              "3   polygamy doesnt mean that theres just women i...  ...     -0.490500\n",
              "4                    the new orleans gargleglubglubs  ...     -0.004229\n",
              "\n",
              "[5 rows x 4 columns]"
            ]
          },
          "metadata": {
            "tags": []
          },
          "execution_count": 15
        }
      ]
    },
    {
      "cell_type": "code",
      "metadata": {
        "id": "Qds96FmMlfZF",
        "colab_type": "code",
        "colab": {}
      },
      "source": [
        "train.to_csv('train.csv', index=False)\n",
        "test.to_csv('test.csv', index=False)"
      ],
      "execution_count": 0,
      "outputs": []
    },
    {
      "cell_type": "markdown",
      "metadata": {
        "id": "xPPs7HCZmg5h",
        "colab_type": "text"
      },
      "source": [
        "Убедимся, что ничего не съехало:"
      ]
    },
    {
      "cell_type": "code",
      "metadata": {
        "id": "4ssDu5f7mQVL",
        "colab_type": "code",
        "outputId": "7612a4ca-a910-4e99-c9fe-50961dcfa982",
        "colab": {
          "base_uri": "https://localhost:8080/",
          "height": 168
        }
      },
      "source": [
        "train.iloc[-1], X_train.iloc[-1], y_train.iloc[-1]"
      ],
      "execution_count": 18,
      "outputs": [
        {
          "output_type": "execute_result",
          "data": {
            "text/plain": [
              "(text             4x the pixels has nothing to do with the resol...\n",
              " parent_text      the new gpu is 2x as powerful as the ipad 2s b...\n",
              " rating                                                          -8\n",
              " rating_scaled                                            -0.471616\n",
              " Name: 3799999, dtype: object,\n",
              " text           4x the pixels has nothing to do with the resol...\n",
              " parent_text    The new GPU is 2x as powerful as the iPad 2's,...\n",
              " Name: 3799999, dtype: object,\n",
              " -8)"
            ]
          },
          "metadata": {
            "tags": []
          },
          "execution_count": 18
        }
      ]
    },
    {
      "cell_type": "code",
      "metadata": {
        "id": "I4VC-mRrl4D3",
        "colab_type": "code",
        "outputId": "ca615dda-bba0-452d-a4ce-1a922e9d4e92",
        "colab": {
          "base_uri": "https://localhost:8080/",
          "height": 168
        }
      },
      "source": [
        "test.iloc[-1], X_test.iloc[-1], y_test.iloc[-1]"
      ],
      "execution_count": 19,
      "outputs": [
        {
          "output_type": "execute_result",
          "data": {
            "text/plain": [
              "(text             ha people on reddit go on the side of whoever ...\n",
              " parent_text      i just hope you guys dont ruin it for the play...\n",
              " rating                                                          91\n",
              " rating_scaled                                          -0.00422926\n",
              " Name: 199999, dtype: object,\n",
              " text           Ha, people on Reddit go on the side of whoever...\n",
              " parent_text    I just hope you guys don't ruin it for the pla...\n",
              " Name: 199999, dtype: object,\n",
              " 91)"
            ]
          },
          "metadata": {
            "tags": []
          },
          "execution_count": 19
        }
      ]
    },
    {
      "cell_type": "markdown",
      "metadata": {
        "id": "myR-o_QP_aNz",
        "colab_type": "text"
      },
      "source": [
        "# Model"
      ]
    },
    {
      "cell_type": "code",
      "metadata": {
        "id": "OiIzK6e32xhj",
        "colab_type": "code",
        "outputId": "74616a59-6f3c-4d49-eb38-26e2f547cbd0",
        "colab": {
          "base_uri": "https://localhost:8080/",
          "height": 180,
          "referenced_widgets": [
            "0578a76171b54483b3d542381c7a1cc3",
            "d375dce7b6da4998943d4a651101b815",
            "e0a73501a04a4eddb8b645f9aadf8f32",
            "04ead33e33dd4c8fbd900babdf8ec803",
            "4208b712cbab4efba152da1f480fe712",
            "014012436fd945adb25984fd2f02c288",
            "cbd8dc0c90804680babf77ddeeb4b18c",
            "a170aa827acc4fc48511207080b43c78",
            "ec609c3e48d2477eb00c3072d5871929",
            "3aaadd0c4a56431c9e79b2138a83ea2e",
            "80e36d70372b48d0ab7f530ecd6f3e06",
            "d9685b00a63c4bdc88cbe8dbeda52d8e",
            "1cc0a21179564825a42532d1840b2650",
            "a7a524e2f114486b94532372f595d1c4",
            "71e9615ac1b54521a9c45f36e42d6c11",
            "db9bbf10b24e4abcb9175fa7fe8a5ec8",
            "8751d2e5a95e450293a5560dad618231",
            "9b564727c5c348bf88d35e022d2a30c7",
            "63bfe1379d3d4f5db3d143f35fef76da",
            "e2be1e853dd14c3990b49706783829ed",
            "b749e6477e764a4da69ddbc0f4df7576",
            "da29dc3020e04ab5b1a258d7cbda7481",
            "e0212391538b4f9885b43baf8118407c",
            "a24e3310686a4cff8d618f331d775e39"
          ]
        }
      },
      "source": [
        "pretrained_weights = 'bert-base-uncased'\n",
        "\n",
        "tokenizer = BertTokenizer.from_pretrained(pretrained_weights)\n",
        "pad_index = tokenizer.convert_tokens_to_ids(tokenizer.pad_token)\n",
        "\n",
        "bert = BertModel.from_pretrained(pretrained_weights)\n",
        "bert.to(device)\n",
        "def tokenize(text, tokenizer=tokenizer):\n",
        "    return tokenizer.encode(text, max_length=100)\n",
        "\n",
        "embeddings_pretrained = bert.get_input_embeddings()\n",
        "embeddings_pretrained"
      ],
      "execution_count": 20,
      "outputs": [
        {
          "output_type": "display_data",
          "data": {
            "application/vnd.jupyter.widget-view+json": {
              "model_id": "0578a76171b54483b3d542381c7a1cc3",
              "version_minor": 0,
              "version_major": 2
            },
            "text/plain": [
              "HBox(children=(IntProgress(value=0, description='Downloading', max=231508, style=ProgressStyle(description_wid…"
            ]
          },
          "metadata": {
            "tags": []
          }
        },
        {
          "output_type": "stream",
          "text": [
            "\n"
          ],
          "name": "stdout"
        },
        {
          "output_type": "display_data",
          "data": {
            "application/vnd.jupyter.widget-view+json": {
              "model_id": "ec609c3e48d2477eb00c3072d5871929",
              "version_minor": 0,
              "version_major": 2
            },
            "text/plain": [
              "HBox(children=(IntProgress(value=0, description='Downloading', max=361, style=ProgressStyle(description_width=…"
            ]
          },
          "metadata": {
            "tags": []
          }
        },
        {
          "output_type": "stream",
          "text": [
            "\n"
          ],
          "name": "stdout"
        },
        {
          "output_type": "display_data",
          "data": {
            "application/vnd.jupyter.widget-view+json": {
              "model_id": "8751d2e5a95e450293a5560dad618231",
              "version_minor": 0,
              "version_major": 2
            },
            "text/plain": [
              "HBox(children=(IntProgress(value=0, description='Downloading', max=440473133, style=ProgressStyle(description_…"
            ]
          },
          "metadata": {
            "tags": []
          }
        },
        {
          "output_type": "stream",
          "text": [
            "\n"
          ],
          "name": "stdout"
        },
        {
          "output_type": "execute_result",
          "data": {
            "text/plain": [
              "Embedding(30522, 768, padding_idx=0)"
            ]
          },
          "metadata": {
            "tags": []
          },
          "execution_count": 20
        }
      ]
    },
    {
      "cell_type": "code",
      "metadata": {
        "id": "B7OoJ7Qy29xr",
        "colab_type": "code",
        "colab": {}
      },
      "source": [
        "LABEL = data.Field(dtype=torch.float64,\n",
        "                   use_vocab=False,\n",
        "                   sequential=False, \n",
        "                   preprocessing=data.Pipeline(int),\n",
        "                   )\n",
        "SCALED = data.Field(dtype=torch.float64,\n",
        "                    use_vocab=False,\n",
        "                    sequential=False,\n",
        "                    preprocessing=data.Pipeline(float))\n",
        "\n",
        "TEXT = data.Field(sequential=True, \n",
        "                  include_lengths=False,\n",
        "                  batch_first=True, \n",
        "                  tokenize=tokenize, \n",
        "                  pad_first=False, \n",
        "                  lower=False,\n",
        "                  use_vocab=False,\n",
        "                  preprocessing=data.Pipeline(int),\n",
        "                  pad_token=pad_index)\n",
        "\n",
        "fields = [('text', TEXT), ('parent_text', TEXT), ('label',LABEL),  ('rating_scaled', SCALED)]\n",
        "\n",
        "train = data.TabularDataset('/content/train.csv', \n",
        "                            format='csv', \n",
        "                            fields=fields, \n",
        "                            skip_header=True)\n",
        "\n",
        "test = data.TabularDataset('/content/test.csv',  \n",
        "                           format='csv', \n",
        "                           fields=fields, \n",
        "                           skip_header=True)\n",
        "\n",
        "train, valid = train.split(0.9)"
      ],
      "execution_count": 0,
      "outputs": []
    },
    {
      "cell_type": "code",
      "metadata": {
        "id": "L1hbCQz9wFgc",
        "colab_type": "code",
        "colab": {
          "base_uri": "https://localhost:8080/",
          "height": 34
        },
        "outputId": "eb9fe6ec-a678-4136-a00a-992f4a486c78"
      },
      "source": [
        "len(train), len(valid), len(test), len(train)+len(valid)"
      ],
      "execution_count": 22,
      "outputs": [
        {
          "output_type": "execute_result",
          "data": {
            "text/plain": [
              "(3415926, 379547, 200000, 3795473)"
            ]
          },
          "metadata": {
            "tags": []
          },
          "execution_count": 22
        }
      ]
    },
    {
      "cell_type": "code",
      "metadata": {
        "id": "Rv1pXmI22-YQ",
        "colab_type": "code",
        "colab": {}
      },
      "source": [
        "EMBEDDINGS_DIM = embeddings_pretrained.embedding_dim\n",
        "VOCAB_SIZE = embeddings_pretrained.num_embeddings\n",
        "EMB_PRETRAINED = True"
      ],
      "execution_count": 0,
      "outputs": []
    },
    {
      "cell_type": "markdown",
      "metadata": {
        "id": "qGPCejVUkRPD",
        "colab_type": "text"
      },
      "source": [
        "# Models"
      ]
    },
    {
      "cell_type": "markdown",
      "metadata": {
        "id": "8jnEbufoy6ZH",
        "colab_type": "text"
      },
      "source": [
        "В тетрадке запущена одна из лучших моделей (Подробнее о ее выборе ниже)."
      ]
    },
    {
      "cell_type": "markdown",
      "metadata": {
        "id": "Sj6AXzIiIpNS",
        "colab_type": "text"
      },
      "source": [
        "## Neural Network with attention"
      ]
    },
    {
      "cell_type": "code",
      "metadata": {
        "id": "CIqLSz1_dwQ8",
        "colab_type": "code",
        "colab": {}
      },
      "source": [
        "class Attention(nn.Module):\n",
        "    def __init__(self, embed_size):\n",
        "        super().__init__()\n",
        "        self.linear = nn.Linear(embed_size, embed_size)\n",
        "\n",
        "    def forward(self, input_):\n",
        "        mean_input = torch.mean(input_, dim=1)\n",
        "        lin_out = self.linear(mean_input).unsqueeze(2)\n",
        "        bmm_out = torch.bmm(input_, lin_out).tanh()\n",
        "        res = bmm_out / sum(torch.exp(bmm_out))\n",
        "        return res.squeeze(1)"
      ],
      "execution_count": 0,
      "outputs": []
    },
    {
      "cell_type": "code",
      "metadata": {
        "id": "8U6WwJSY8whh",
        "colab_type": "code",
        "colab": {}
      },
      "source": [
        "class MyModel(nn.Module):\n",
        "    \n",
        "    def __init__(self, vocab_size, embed_size, hidden_size,\n",
        "                 emb_pretrained, embeddings):\n",
        "        super(MyModel, self).__init__()\n",
        "\n",
        "        self.embedding =  embeddings if emb_pretrained else nn.Embedding(vocab_size, embed_size)\n",
        "        self.attention = Attention(embed_size)\n",
        "        self.fc = nn.Linear(embed_size, hidden_size)\n",
        "        self.fc2 = nn.Linear(hidden_size, 1)\n",
        "\n",
        "    def forward(self, batch):\n",
        "\n",
        "        text, parent = self.embedding(batch.text), self.embedding(batch.parent_text)\n",
        "\n",
        "        text_a = self.attention(text)\n",
        "        parent_a = self.attention(parent)\n",
        "        text = torch.bmm(text.transpose(1,2), text_a).squeeze(2)\n",
        "        parent = torch.bmm(parent.transpose(1,2), parent_a).squeeze(2)\n",
        "        \n",
        "        # result = torch.cat((text,parent), dim=-1) # concat\n",
        "        # result = text + parent  # summ\n",
        "        result = (text + parent) / 2 # mean\n",
        "        \n",
        "        result = self.fc(result)\n",
        "        result = F.relu(result)\n",
        "        result = self.fc2(result)\n",
        "\n",
        "        return result"
      ],
      "execution_count": 0,
      "outputs": []
    },
    {
      "cell_type": "markdown",
      "metadata": {
        "id": "H2W_pXn8rIgS",
        "colab_type": "text"
      },
      "source": [
        "## Bert"
      ]
    },
    {
      "cell_type": "code",
      "metadata": {
        "id": "8uc-d6RfrGvE",
        "colab_type": "code",
        "colab": {}
      },
      "source": [
        "class MyModel(nn.Module):\n",
        "    \n",
        "    def __init__(self, bert, embed_size, hidden_size):\n",
        "        super(MyModel, self).__init__()\n",
        "\n",
        "        self.bert = bert\n",
        "        self.fc = nn.Linear(2*embed_size, 1)\n",
        "        self.fc2 = nn.Linear(hidden_size, 1)\n",
        "\n",
        "    def forward(self, batch):\n",
        "\n",
        "        text, parent = self.bert(batch.text)[0], self.bert(batch.parent_text)[0]\n",
        "        cat = torch.cat((text[:,0,:],parent[:,0,:]), dim=-1)\n",
        "        cat = self.fc(cat)\n",
        "\n",
        "        return cat"
      ],
      "execution_count": 0,
      "outputs": []
    },
    {
      "cell_type": "markdown",
      "metadata": {
        "id": "79taIjF9rKg6",
        "colab_type": "text"
      },
      "source": [
        "## Model initialisation"
      ]
    },
    {
      "cell_type": "code",
      "metadata": {
        "id": "wqe6mT8481-c",
        "colab_type": "code",
        "outputId": "b24dd1ae-0604-4709-e7dc-32c6ab2b8498",
        "colab": {
          "base_uri": "https://localhost:8080/",
          "height": 84
        }
      },
      "source": [
        "BATCH_SIZE = 512\n",
        "HIDDEN_SIZE = 1024\n",
        "LR = 0.01\n",
        "\n",
        "model = MyModel(vocab_size=VOCAB_SIZE,\n",
        "                embed_size=EMBEDDINGS_DIM,\n",
        "                hidden_size=HIDDEN_SIZE,\n",
        "                emb_pretrained = EMB_PRETRAINED,\n",
        "                embeddings = embeddings_pretrained\n",
        "               )\n",
        "bert = BertModel.from_pretrained(pretrained_weights)\n",
        "bert.to(device)\n",
        "\n",
        "# model = MyModel(bert=bert,\n",
        "#                 embed_size=EMBEDDINGS_DIM,\n",
        "#                 hidden_size=HIDDEN_SIZE)\n",
        "\n",
        "model.to(device)\n",
        "wandb.init(project=\"reddit-comments-score\", name='att_full', config = {\"Train size\": 'All', \n",
        "                                                                 \"Batch size\": BATCH_SIZE,\n",
        "                                                                 \"Hidden_size\": HIDDEN_SIZE,\n",
        "                                                                 \"Dropout\": 'None',\n",
        "                                                                 \"Optimizer\": \"SGD\",\n",
        "                                                                 \"Learning rate\": LR})\n",
        "wandb.watch(model)"
      ],
      "execution_count": 27,
      "outputs": [
        {
          "output_type": "display_data",
          "data": {
            "text/html": [
              "\n",
              "                Logging results to <a href=\"https://wandb.com\" target=\"_blank\">Weights & Biases</a> <a href=\"https://docs.wandb.com/integrations/jupyter.html\" target=\"_blank\">(Documentation)</a>.<br/>\n",
              "                Project page: <a href=\"https://app.wandb.ai/2ispany3/reddit-comments-score\" target=\"_blank\">https://app.wandb.ai/2ispany3/reddit-comments-score</a><br/>\n",
              "                Run page: <a href=\"https://app.wandb.ai/2ispany3/reddit-comments-score/runs/1a9yjq3e\" target=\"_blank\">https://app.wandb.ai/2ispany3/reddit-comments-score/runs/1a9yjq3e</a><br/>\n",
              "            "
            ],
            "text/plain": [
              "<IPython.core.display.HTML object>"
            ]
          },
          "metadata": {
            "tags": []
          }
        },
        {
          "output_type": "execute_result",
          "data": {
            "text/plain": [
              "[<wandb.wandb_torch.TorchGraph at 0x7f5153402ef0>]"
            ]
          },
          "metadata": {
            "tags": []
          },
          "execution_count": 27
        }
      ]
    },
    {
      "cell_type": "code",
      "metadata": {
        "id": "C6CrdBo_gbMZ",
        "colab_type": "code",
        "colab": {}
      },
      "source": [
        "train_iterator, valid_iterator, test_iterator = data.BucketIterator.splits(\n",
        "    (train, valid, test),\n",
        "    batch_sizes=(BATCH_SIZE, BATCH_SIZE, BATCH_SIZE),\n",
        "    shuffle=True,\n",
        "    device=device,\n",
        "    sort_key=lambda x: len(x.text),\n",
        "    sort_within_batch=True,\n",
        ")\n",
        "\n",
        "optimizer = optim.SGD(model.parameters(), lr=LR)\n",
        "# scheduler = optim.lr_scheduler.CyclicLR(optimizer, base_lr=0.01, max_lr=0.1)\n",
        "criterion = torch.nn.MSELoss()\n",
        "criterion.to(device);"
      ],
      "execution_count": 0,
      "outputs": []
    },
    {
      "cell_type": "code",
      "metadata": {
        "id": "awNqtWgCs7nb",
        "colab_type": "code",
        "outputId": "f8129845-d88e-4a9b-94fb-f5e697e6428f",
        "colab": {
          "base_uri": "https://localhost:8080/",
          "height": 50
        }
      },
      "source": [
        "# Freesing some of bert layers if needed\n",
        "\n",
        "# params = sum(p.numel() for p in model.parameters() if p.requires_grad)\n",
        "# print(params)\n",
        "\n",
        "# for p in model.bert.encoder.parameters(): \n",
        "#     p.requires_grad = False \n",
        "\n",
        "# for p in model.bert.pooler.parameters():\n",
        "#     p.requires_grad = True\n",
        "\n",
        "# for p in model.bert.embeddings.parameters(): \n",
        "#     p.requires_grad = False\n",
        "\n",
        "# for p in model.bert.encoder.layer[-1].parameters():\n",
        "#     p.requires_grad = True\n",
        "\n",
        "# params = sum(p.numel() for p in model.parameters() if p.requires_grad)\n",
        "# print(params)"
      ],
      "execution_count": 0,
      "outputs": [
        {
          "output_type": "stream",
          "text": [
            "108312834\n",
            "7681026\n"
          ],
          "name": "stdout"
        }
      ]
    },
    {
      "cell_type": "markdown",
      "metadata": {
        "id": "hSP8DxIIHPoP",
        "colab_type": "text"
      },
      "source": [
        "## Training and Testing"
      ]
    },
    {
      "cell_type": "code",
      "metadata": {
        "id": "QDY4MHS14_Oa",
        "colab_type": "code",
        "colab": {
          "base_uri": "https://localhost:8080/",
          "height": 34
        },
        "outputId": "afad399a-dc26-4e58-abc1-d58b62f7c07d"
      },
      "source": [
        "def clean_tqdm():\n",
        "    for instance in list(tqdm._instances): \n",
        "        tqdm._decr_instances(instance)\n",
        "\n",
        "for e in tqdm([1,2,3]):\n",
        "    pass"
      ],
      "execution_count": 30,
      "outputs": [
        {
          "output_type": "stream",
          "text": [
            "100%|██████████| 3/3 [00:00<00:00, 2301.19it/s]\n"
          ],
          "name": "stderr"
        }
      ]
    },
    {
      "cell_type": "code",
      "metadata": {
        "id": "HWvrPEIZrZ9F",
        "colab_type": "code",
        "colab": {}
      },
      "source": [
        "train_losses = []\n",
        "valid_losses = []\n",
        "\n",
        "def _train_epoch(model, iterator, optimizer, criterion, curr_epoch):\n",
        "    \n",
        "    model.train()\n",
        "    running_loss = 0\n",
        "    n_batches = len(iterator)    \n",
        "    \n",
        "    clean_tqdm()\n",
        "    for batch in tqdm(iterator):\n",
        "        x = batch\n",
        "        y = batch.label.squeeze(0)\n",
        "        optimizer.zero_grad()\n",
        "        preds = model(x).squeeze(1).double()\n",
        "        loss = criterion(preds, y)\n",
        "        loss.backward()\n",
        "\n",
        "        torch.nn.utils.clip_grad_norm_(model.parameters(), 2)\n",
        "        optimizer.step()\n",
        "        \n",
        "        curr_loss = loss.data.detach().item()\n",
        "        train_losses.append(curr_loss)\n",
        "\n",
        "        wandb.log({\"Train Loss\": curr_loss})\n",
        "\n",
        "    return curr_loss\n",
        "\n",
        "def _test_epoch(model, iterator, criterion, scheduler):\n",
        "    model.eval()\n",
        "    \n",
        "    epoch_loss = 0\n",
        "    n_batches = len(iterator)\n",
        "\n",
        "    with torch.no_grad():\n",
        "        for batch in iterator:\n",
        "            x = batch\n",
        "            y = batch.label.squeeze(0)\n",
        "            preds = model(x).squeeze(1).double()\n",
        "\n",
        "            loss = criterion(preds, y)\n",
        "            valid_losses.append(loss.item())\n",
        "            epoch_loss += loss.data.item()\n",
        "\n",
        "    if scheduler:\n",
        "        scheduler.step(loss.item())\n",
        "    wandb.log({\"Valid Loss\": epoch_loss/n_batches})\n",
        "    \n",
        "    return epoch_loss / n_batches\n",
        "\n",
        "def nn_train(model, train_iterator, valid_iterator, criterion, optimizer, scheduler, n_epochs=20, early_stopping=0):\n",
        "\n",
        "    prev_loss = 1000500\n",
        "    es_epochs = 0\n",
        "    best_epoch = None\n",
        "    history = pd.DataFrame()\n",
        "\n",
        "    for epoch in range(n_epochs):\n",
        "\n",
        "        train_loss = _train_epoch(model, train_iterator, optimizer, criterion, epoch)\n",
        "        valid_loss = _test_epoch(model, valid_iterator, criterion, scheduler)\n",
        "\n",
        "        print('Epoch {} is finished'.format(epoch))\n",
        "        print('validation loss %.5f' % valid_loss)\n",
        "\n",
        "        record = {'epoch': epoch, 'train_loss': train_loss, 'valid_loss': valid_loss}\n",
        "        history = history.append(record, ignore_index=True)\n",
        "\n",
        "        if early_stopping > 0:\n",
        "            if valid_loss > prev_loss:\n",
        "                es_epochs += 1\n",
        "            else:\n",
        "                es_epochs = 0\n",
        "\n",
        "            if es_epochs >= early_stopping:\n",
        "                best_epoch = history[history.valid_loss == history.valid_loss.min()].iloc[0]\n",
        "                print('Early stopping! best epoch: %d val %.5f' % (best_epoch['epoch'], best_epoch['valid_loss']))\n",
        "                break\n",
        "\n",
        "            prev_loss = min(prev_loss, valid_loss)\n",
        "        \n",
        "        torch.save(model.state_dict(), '/content/drive/My Drive/jetbrains/model_full_{}'.format(epoch))\n",
        "        wandb.save('model_{}.h5'.format(epoch))\n",
        "    return history"
      ],
      "execution_count": 0,
      "outputs": []
    },
    {
      "cell_type": "code",
      "metadata": {
        "id": "PcFHe0idr5Lk",
        "colab_type": "code",
        "outputId": "b8ee0ea7-a52f-40a7-c86e-febe2276b4ca",
        "colab": {
          "base_uri": "https://localhost:8080/",
          "height": 1000
        }
      },
      "source": [
        "clean_tqdm()\n",
        "history = nn_train(model, train_iterator, valid_iterator,\n",
        "          criterion, optimizer, scheduler=None, n_epochs=20, early_stopping=5)"
      ],
      "execution_count": 32,
      "outputs": [
        {
          "output_type": "stream",
          "text": [
            "100%|██████████| 6672/6672 [09:33<00:00, 11.63it/s]\n"
          ],
          "name": "stderr"
        },
        {
          "output_type": "stream",
          "text": [
            "Epoch 0 is finished\n",
            "validation loss 44751.32853\n"
          ],
          "name": "stdout"
        },
        {
          "output_type": "stream",
          "text": [
            "100%|██████████| 6672/6672 [09:19<00:00, 11.93it/s]\n"
          ],
          "name": "stderr"
        },
        {
          "output_type": "stream",
          "text": [
            "Epoch 1 is finished\n",
            "validation loss 44738.77572\n"
          ],
          "name": "stdout"
        },
        {
          "output_type": "stream",
          "text": [
            "100%|██████████| 6672/6672 [09:25<00:00, 11.81it/s]\n"
          ],
          "name": "stderr"
        },
        {
          "output_type": "stream",
          "text": [
            "Epoch 2 is finished\n",
            "validation loss 44709.11157\n"
          ],
          "name": "stdout"
        },
        {
          "output_type": "stream",
          "text": [
            "100%|██████████| 6672/6672 [09:36<00:00, 11.58it/s]\n"
          ],
          "name": "stderr"
        },
        {
          "output_type": "stream",
          "text": [
            "Epoch 3 is finished\n",
            "validation loss 44592.92259\n"
          ],
          "name": "stdout"
        },
        {
          "output_type": "stream",
          "text": [
            "100%|██████████| 6672/6672 [09:24<00:00, 11.81it/s]\n"
          ],
          "name": "stderr"
        },
        {
          "output_type": "stream",
          "text": [
            "Epoch 4 is finished\n",
            "validation loss 43848.15903\n"
          ],
          "name": "stdout"
        },
        {
          "output_type": "stream",
          "text": [
            "100%|██████████| 6672/6672 [09:27<00:00, 11.75it/s]\n"
          ],
          "name": "stderr"
        },
        {
          "output_type": "stream",
          "text": [
            "Epoch 5 is finished\n",
            "validation loss 43015.17140\n"
          ],
          "name": "stdout"
        },
        {
          "output_type": "stream",
          "text": [
            "100%|██████████| 6672/6672 [09:24<00:00, 11.81it/s]\n"
          ],
          "name": "stderr"
        },
        {
          "output_type": "stream",
          "text": [
            "Epoch 6 is finished\n",
            "validation loss 42575.60597\n"
          ],
          "name": "stdout"
        },
        {
          "output_type": "stream",
          "text": [
            "100%|██████████| 6672/6672 [09:20<00:00, 11.91it/s]\n"
          ],
          "name": "stderr"
        },
        {
          "output_type": "stream",
          "text": [
            "Epoch 7 is finished\n",
            "validation loss 42215.66126\n"
          ],
          "name": "stdout"
        },
        {
          "output_type": "stream",
          "text": [
            "100%|██████████| 6672/6672 [09:23<00:00, 11.83it/s]\n"
          ],
          "name": "stderr"
        },
        {
          "output_type": "stream",
          "text": [
            "Epoch 8 is finished\n",
            "validation loss 42052.12775\n"
          ],
          "name": "stdout"
        },
        {
          "output_type": "stream",
          "text": [
            "100%|██████████| 6672/6672 [09:35<00:00, 11.60it/s]\n"
          ],
          "name": "stderr"
        },
        {
          "output_type": "stream",
          "text": [
            "Epoch 9 is finished\n",
            "validation loss 41871.61899\n"
          ],
          "name": "stdout"
        },
        {
          "output_type": "stream",
          "text": [
            "100%|██████████| 6672/6672 [09:26<00:00, 11.77it/s]\n"
          ],
          "name": "stderr"
        },
        {
          "output_type": "stream",
          "text": [
            "Epoch 10 is finished\n",
            "validation loss 42079.49998\n"
          ],
          "name": "stdout"
        },
        {
          "output_type": "stream",
          "text": [
            "100%|██████████| 6672/6672 [09:23<00:00, 11.85it/s]\n"
          ],
          "name": "stderr"
        },
        {
          "output_type": "stream",
          "text": [
            "Epoch 11 is finished\n",
            "validation loss 41652.04128\n"
          ],
          "name": "stdout"
        },
        {
          "output_type": "stream",
          "text": [
            "100%|██████████| 6672/6672 [09:27<00:00, 11.77it/s]\n"
          ],
          "name": "stderr"
        },
        {
          "output_type": "stream",
          "text": [
            "Epoch 12 is finished\n",
            "validation loss 41576.53803\n"
          ],
          "name": "stdout"
        },
        {
          "output_type": "stream",
          "text": [
            "100%|██████████| 6672/6672 [09:18<00:00, 11.95it/s]\n"
          ],
          "name": "stderr"
        },
        {
          "output_type": "stream",
          "text": [
            "Epoch 13 is finished\n",
            "validation loss 41511.80905\n"
          ],
          "name": "stdout"
        },
        {
          "output_type": "stream",
          "text": [
            "100%|██████████| 6672/6672 [09:11<00:00, 12.10it/s]\n"
          ],
          "name": "stderr"
        },
        {
          "output_type": "stream",
          "text": [
            "Epoch 14 is finished\n",
            "validation loss 41450.31199\n"
          ],
          "name": "stdout"
        },
        {
          "output_type": "stream",
          "text": [
            "100%|██████████| 6672/6672 [08:56<00:00, 12.44it/s]\n"
          ],
          "name": "stderr"
        },
        {
          "output_type": "stream",
          "text": [
            "Epoch 15 is finished\n",
            "validation loss 41721.40660\n"
          ],
          "name": "stdout"
        },
        {
          "output_type": "stream",
          "text": [
            "100%|██████████| 6672/6672 [08:54<00:00, 12.48it/s]\n"
          ],
          "name": "stderr"
        },
        {
          "output_type": "stream",
          "text": [
            "Epoch 16 is finished\n",
            "validation loss 41517.63726\n"
          ],
          "name": "stdout"
        },
        {
          "output_type": "stream",
          "text": [
            "100%|██████████| 6672/6672 [08:53<00:00, 12.51it/s]\n"
          ],
          "name": "stderr"
        },
        {
          "output_type": "stream",
          "text": [
            "Epoch 17 is finished\n",
            "validation loss 41377.02292\n"
          ],
          "name": "stdout"
        },
        {
          "output_type": "stream",
          "text": [
            "100%|██████████| 6672/6672 [08:58<00:00, 12.40it/s]\n",
            "  0%|          | 0/6672 [00:00<?, ?it/s]"
          ],
          "name": "stderr"
        },
        {
          "output_type": "stream",
          "text": [
            "Epoch 18 is finished\n",
            "validation loss 41359.56560\n"
          ],
          "name": "stdout"
        },
        {
          "output_type": "stream",
          "text": [
            "100%|██████████| 6672/6672 [08:59<00:00, 12.36it/s]\n"
          ],
          "name": "stderr"
        },
        {
          "output_type": "stream",
          "text": [
            "Epoch 19 is finished\n",
            "validation loss 41262.21379\n"
          ],
          "name": "stdout"
        }
      ]
    },
    {
      "cell_type": "code",
      "metadata": {
        "id": "qdMrMjnafzXy",
        "colab_type": "code",
        "colab": {}
      },
      "source": [
        "def test_model(model, test_iterator):\n",
        "    \"\"\"\n",
        "    Return mse for test_iterator\n",
        "    \"\"\"\n",
        "    epoch_loss = 0\n",
        "    n_batches = len(test_iterator)\n",
        "    model.eval()\n",
        "    with torch.no_grad():\n",
        "        for batch in test_iterator:\n",
        "            x = batch\n",
        "            y = batch.label.squeeze(0)\n",
        "            preds = model(x).squeeze(1).double()\n",
        "            loss = criterion(preds, y)\n",
        "            epoch_loss += loss.data.item()\n",
        "    return epoch_loss / n_batches"
      ],
      "execution_count": 0,
      "outputs": []
    },
    {
      "cell_type": "code",
      "metadata": {
        "id": "EINey9_8HpqU",
        "colab_type": "code",
        "outputId": "1a1497cf-cef9-4ba9-e881-edb7d5cf2234",
        "colab": {
          "base_uri": "https://localhost:8080/",
          "height": 34
        }
      },
      "source": [
        "mse_test = test_model(model, test_iterator)\n",
        "wandb.log({\"MSE Test\": mse_test})\n",
        "print('MSE for test data: {}'.format(mse_test))"
      ],
      "execution_count": 34,
      "outputs": [
        {
          "output_type": "stream",
          "text": [
            "MSE for test data: 40591.091599407155\n"
          ],
          "name": "stdout"
        }
      ]
    },
    {
      "cell_type": "markdown",
      "metadata": {
        "id": "0sIK5ketmmET",
        "colab_type": "text"
      },
      "source": [
        "# Wandb"
      ]
    },
    {
      "cell_type": "markdown",
      "metadata": {
        "id": "7Bn1Sx7H1IHj",
        "colab_type": "text"
      },
      "source": [
        "Из-за большого кол-ва данных было решено посмотреть на работу моделей на небольшой выборке с разными параметрами.\n",
        "\n",
        "Страница проекта на wandb: https://app.wandb.ai/2ispany3/reddit-comments-score"
      ]
    },
    {
      "cell_type": "markdown",
      "metadata": {
        "id": "TUWCGEb51VfQ",
        "colab_type": "text"
      },
      "source": [
        "1. **Neural Network with attention.**\n",
        "\n",
        "Для эмбеддингов токенов использовались предобученные эмбеддинги Берта из библиотеки transformers. Получаем эмбеддинги text и parent_text через механизм внимания и переможение, конкатенируем их и выполняем линейное преобразование. \n",
        "\n",
        "Лосс на валидации в зависимости от итерации:\n",
        "![att_sgd_200k:](https://github.com/ovbystrova/Reddit-Comment-Score-Prediction/raw/master/data/att_sgd_200k.png)\n",
        "\n",
        "Таблица моделей с параметрами:\n",
        "![att_sgd__200k_table:](https://github.com/ovbystrova/Reddit-Comment-Score-Prediction/raw/master/data/att_sgd_200k_table.png)\n",
        "\n",
        "\n",
        "Тут лучшая модель на тесте показывает MSE: 41 859"
      ]
    },
    {
      "cell_type": "markdown",
      "metadata": {
        "id": "urboWhRx4t2b",
        "colab_type": "text"
      },
      "source": [
        "2. **Bert**\n",
        "\n",
        "Также я хотела пропустить данные через Берт (заморозив почти все его слои). После Берта я брала CLS токен для text и parent, конкатенировала их и пропускала через линейные слои (от 1 до 3х). По сравнению с att_nn, модель лучше показывает себя на валидации, но она в разы медленнее (в att_nn одна эпоха на всех данных занимает 9 минут, в bert - 3 часа).\n",
        "\n",
        "Лосс на валидации в зависимости от итерации:\n",
        "![bert_small:](https://github.com/ovbystrova/Reddit-Comment-Score-Prediction/raw/master/data/bert_small.png)\n",
        "\n",
        "В легенде указан размер тренировочной выборки, на которой обучалась модель (от 50к до 400к) и размер батча (от 64 до 256)\n",
        "\n",
        "Таблица моделей с параметрами:\n",
        "![bert_small_table:](https://github.com/ovbystrova/Reddit-Comment-Score-Prediction/raw/master/data/bert_small_table.png)\n",
        "\n",
        "Тут лучшая модель на тесте показывает MSE: 40961"
      ]
    },
    {
      "cell_type": "markdown",
      "metadata": {
        "id": "u1-YYGqk64YB",
        "colab_type": "text"
      },
      "source": [
        "3. **Bert Large with different optimizers**\n",
        "\n",
        "Дальше я попробовала модель ber-large из transformers, и заодно посмотрела на разные оптимизаторы (разницы особо нет).\n",
        "\n",
        "Лосс на тренирвоочной выборке в зависимости от оптимизатора:\n",
        "![bert_large_optims:](https://github.com/ovbystrova/Reddit-Comment-Score-Prediction/raw/master/data/bert_large_optims.png)\n"
      ]
    },
    {
      "cell_type": "markdown",
      "metadata": {
        "id": "n9AjWfxp7V9Z",
        "colab_type": "text"
      },
      "source": [
        "4. **Neural Network with attention part 2.**\n",
        "\n",
        "Эмбеддинги text + parent_text можно получить не только конкатенацией, так что я попробовала еще их просто складывать и усреднять. \n",
        "\n",
        "Лосс на валидации в зависимости от операции с эмбеддингами text и parent:\n",
        "![att_nn_embeddings](https://github.com/ovbystrova/Reddit-Comment-Score-Prediction/raw/master/data/att_nn_embeddings.png)\n",
        "\n",
        "На выборке размером 100000 модели с суммированием и усреднением быстро переобучались, но показывали за меньшее кол-во итераций результаты лучше, чем конкатенация в целом, поэтому я остановилась на усреднении."
      ]
    },
    {
      "cell_type": "markdown",
      "metadata": {
        "id": "8z7DUljw9Xnr",
        "colab_type": "text"
      },
      "source": [
        "5. **Bert and NN+Attention Full**\n",
        "\n",
        "Т.к. раньше использовалась только часть тренировочной выборки, я запустила лучшую модель Bert и лучшую модель NN+Attention на всей выборке. Для Берта одна эпоха заняла 3 часа, для NN было выстрее,  поэтому я на ней и остановилась. Но в принципе, Берт за одну эпоху дошел до лосса на валидации ниже, чем обычная модель за 20 эпох.\n",
        "\n",
        "![full_models](https://github.com/ovbystrova/Reddit-Comment-Score-Prediction/raw/master/data/full_models.png)"
      ]
    },
    {
      "cell_type": "code",
      "metadata": {
        "id": "4G84v5cR-YRp",
        "colab_type": "code",
        "colab": {
          "base_uri": "https://localhost:8080/",
          "height": 698
        },
        "outputId": "67b21249-adc2-47c0-9ad1-c29f18636d47"
      },
      "source": [
        "# results for all runs\n",
        "results = pd.read_csv('https://raw.githubusercontent.com/ovbystrova/Reddit-Comment-Score-Prediction/master/data/wandb_table.csv')\n",
        "results"
      ],
      "execution_count": 42,
      "outputs": [
        {
          "output_type": "execute_result",
          "data": {
            "text/html": [
              "<div>\n",
              "<style scoped>\n",
              "    .dataframe tbody tr th:only-of-type {\n",
              "        vertical-align: middle;\n",
              "    }\n",
              "\n",
              "    .dataframe tbody tr th {\n",
              "        vertical-align: top;\n",
              "    }\n",
              "\n",
              "    .dataframe thead th {\n",
              "        text-align: right;\n",
              "    }\n",
              "</style>\n",
              "<table border=\"1\" class=\"dataframe\">\n",
              "  <thead>\n",
              "    <tr style=\"text-align: right;\">\n",
              "      <th></th>\n",
              "      <th>Name</th>\n",
              "      <th>Train size</th>\n",
              "      <th>Learning rate</th>\n",
              "      <th>Optimizer</th>\n",
              "      <th>Batch size</th>\n",
              "      <th>MSE Test</th>\n",
              "      <th>Train Loss</th>\n",
              "      <th>Valid Loss</th>\n",
              "    </tr>\n",
              "  </thead>\n",
              "  <tbody>\n",
              "    <tr>\n",
              "      <th>0</th>\n",
              "      <td>att_nn_summ</td>\n",
              "      <td>1000000</td>\n",
              "      <td>1.000000e-02</td>\n",
              "      <td>SGD</td>\n",
              "      <td>256</td>\n",
              "      <td>40411.170471</td>\n",
              "      <td>35426.627636</td>\n",
              "      <td>44090.727514</td>\n",
              "    </tr>\n",
              "    <tr>\n",
              "      <th>1</th>\n",
              "      <td>att_nn_base</td>\n",
              "      <td>1000000</td>\n",
              "      <td>1.000000e-02</td>\n",
              "      <td>SGD</td>\n",
              "      <td>256</td>\n",
              "      <td>40460.414560</td>\n",
              "      <td>58660.257789</td>\n",
              "      <td>44109.030938</td>\n",
              "    </tr>\n",
              "    <tr>\n",
              "      <th>2</th>\n",
              "      <td>att_full</td>\n",
              "      <td>All</td>\n",
              "      <td>1.000000e-02</td>\n",
              "      <td>SGD</td>\n",
              "      <td>512</td>\n",
              "      <td>40591.091599</td>\n",
              "      <td>45558.605985</td>\n",
              "      <td>41262.213786</td>\n",
              "    </tr>\n",
              "    <tr>\n",
              "      <th>3</th>\n",
              "      <td>att_nn_mean</td>\n",
              "      <td>1000000</td>\n",
              "      <td>1.000000e-02</td>\n",
              "      <td>SGD</td>\n",
              "      <td>512</td>\n",
              "      <td>40628.581322</td>\n",
              "      <td>25764.752528</td>\n",
              "      <td>44044.973093</td>\n",
              "    </tr>\n",
              "    <tr>\n",
              "      <th>4</th>\n",
              "      <td>bert_full</td>\n",
              "      <td>3000000</td>\n",
              "      <td>1.000000e-01</td>\n",
              "      <td>SGD</td>\n",
              "      <td>64</td>\n",
              "      <td>40808.274171</td>\n",
              "      <td>24684.542065</td>\n",
              "      <td>40164.464237</td>\n",
              "    </tr>\n",
              "    <tr>\n",
              "      <th>5</th>\n",
              "      <td>bert_sgd</td>\n",
              "      <td>400000</td>\n",
              "      <td>NaN</td>\n",
              "      <td>SGD</td>\n",
              "      <td>64</td>\n",
              "      <td>40961.242078</td>\n",
              "      <td>32785.515115</td>\n",
              "      <td>38891.078260</td>\n",
              "    </tr>\n",
              "    <tr>\n",
              "      <th>6</th>\n",
              "      <td>bert_best</td>\n",
              "      <td>400000</td>\n",
              "      <td>1.000000e-01</td>\n",
              "      <td>SGD</td>\n",
              "      <td>64</td>\n",
              "      <td>40961.242078</td>\n",
              "      <td>28634.016796</td>\n",
              "      <td>39845.152171</td>\n",
              "    </tr>\n",
              "    <tr>\n",
              "      <th>7</th>\n",
              "      <td>bert</td>\n",
              "      <td>50000</td>\n",
              "      <td>1.000000e-01</td>\n",
              "      <td>SGD</td>\n",
              "      <td>256</td>\n",
              "      <td>41214.770787</td>\n",
              "      <td>22553.148164</td>\n",
              "      <td>43417.641305</td>\n",
              "    </tr>\n",
              "    <tr>\n",
              "      <th>8</th>\n",
              "      <td>bert_small</td>\n",
              "      <td>200000</td>\n",
              "      <td>NaN</td>\n",
              "      <td>SGD</td>\n",
              "      <td>128</td>\n",
              "      <td>41437.572631</td>\n",
              "      <td>11304.613950</td>\n",
              "      <td>44515.601628</td>\n",
              "    </tr>\n",
              "    <tr>\n",
              "      <th>9</th>\n",
              "      <td>bert_small</td>\n",
              "      <td>200000</td>\n",
              "      <td>NaN</td>\n",
              "      <td>SGD</td>\n",
              "      <td>256</td>\n",
              "      <td>41736.540656</td>\n",
              "      <td>111928.105778</td>\n",
              "      <td>44359.050189</td>\n",
              "    </tr>\n",
              "    <tr>\n",
              "      <th>10</th>\n",
              "      <td>bert_3</td>\n",
              "      <td>50000</td>\n",
              "      <td>1.000000e-01</td>\n",
              "      <td>SGD</td>\n",
              "      <td>256</td>\n",
              "      <td>41785.283943</td>\n",
              "      <td>40366.145870</td>\n",
              "      <td>45645.509317</td>\n",
              "    </tr>\n",
              "    <tr>\n",
              "      <th>11</th>\n",
              "      <td>att_sgd_lr1e-1</td>\n",
              "      <td>200000</td>\n",
              "      <td>NaN</td>\n",
              "      <td>SGD</td>\n",
              "      <td>128</td>\n",
              "      <td>41859.149543</td>\n",
              "      <td>58013.945795</td>\n",
              "      <td>42890.179025</td>\n",
              "    </tr>\n",
              "    <tr>\n",
              "      <th>12</th>\n",
              "      <td>att_sgd_le1e-3</td>\n",
              "      <td>200000</td>\n",
              "      <td>NaN</td>\n",
              "      <td>SGD</td>\n",
              "      <td>128</td>\n",
              "      <td>41890.417137</td>\n",
              "      <td>216901.249293</td>\n",
              "      <td>42692.996477</td>\n",
              "    </tr>\n",
              "    <tr>\n",
              "      <th>13</th>\n",
              "      <td>bert_large</td>\n",
              "      <td>100000</td>\n",
              "      <td>1.000000e-20</td>\n",
              "      <td>ASGD</td>\n",
              "      <td>64</td>\n",
              "      <td>NaN</td>\n",
              "      <td>27910.543967</td>\n",
              "      <td>NaN</td>\n",
              "    </tr>\n",
              "    <tr>\n",
              "      <th>14</th>\n",
              "      <td>bert_large</td>\n",
              "      <td>100000</td>\n",
              "      <td>1.000000e-20</td>\n",
              "      <td>SGD</td>\n",
              "      <td>64</td>\n",
              "      <td>NaN</td>\n",
              "      <td>19225.694372</td>\n",
              "      <td>NaN</td>\n",
              "    </tr>\n",
              "    <tr>\n",
              "      <th>15</th>\n",
              "      <td>bert_large</td>\n",
              "      <td>100000</td>\n",
              "      <td>1.000000e-20</td>\n",
              "      <td>Adamax</td>\n",
              "      <td>64</td>\n",
              "      <td>NaN</td>\n",
              "      <td>15877.524169</td>\n",
              "      <td>NaN</td>\n",
              "    </tr>\n",
              "    <tr>\n",
              "      <th>16</th>\n",
              "      <td>att_nn_mean</td>\n",
              "      <td>1000000</td>\n",
              "      <td>1.000000e-02</td>\n",
              "      <td>SGD</td>\n",
              "      <td>256</td>\n",
              "      <td>NaN</td>\n",
              "      <td>15598.381752</td>\n",
              "      <td>44009.239343</td>\n",
              "    </tr>\n",
              "    <tr>\n",
              "      <th>17</th>\n",
              "      <td>att_sgd</td>\n",
              "      <td>200000</td>\n",
              "      <td>NaN</td>\n",
              "      <td>SGD</td>\n",
              "      <td>64</td>\n",
              "      <td>NaN</td>\n",
              "      <td>16066.309793</td>\n",
              "      <td>43044.547558</td>\n",
              "    </tr>\n",
              "    <tr>\n",
              "      <th>18</th>\n",
              "      <td>bert_large</td>\n",
              "      <td>100000</td>\n",
              "      <td>1.000000e-20</td>\n",
              "      <td>Adam</td>\n",
              "      <td>64</td>\n",
              "      <td>NaN</td>\n",
              "      <td>19248.728612</td>\n",
              "      <td>NaN</td>\n",
              "    </tr>\n",
              "    <tr>\n",
              "      <th>19</th>\n",
              "      <td>bert_large</td>\n",
              "      <td>100000</td>\n",
              "      <td>1.000000e-20</td>\n",
              "      <td>AdamW</td>\n",
              "      <td>64</td>\n",
              "      <td>NaN</td>\n",
              "      <td>83282.438363</td>\n",
              "      <td>NaN</td>\n",
              "    </tr>\n",
              "    <tr>\n",
              "      <th>20</th>\n",
              "      <td>bert_large</td>\n",
              "      <td>100000</td>\n",
              "      <td>1.000000e-20</td>\n",
              "      <td>Adagrad</td>\n",
              "      <td>64</td>\n",
              "      <td>NaN</td>\n",
              "      <td>13939.397157</td>\n",
              "      <td>NaN</td>\n",
              "    </tr>\n",
              "    <tr>\n",
              "      <th>21</th>\n",
              "      <td>bert_large</td>\n",
              "      <td>100000</td>\n",
              "      <td>1.000000e-20</td>\n",
              "      <td>Adadelta</td>\n",
              "      <td>64</td>\n",
              "      <td>NaN</td>\n",
              "      <td>22028.527670</td>\n",
              "      <td>NaN</td>\n",
              "    </tr>\n",
              "  </tbody>\n",
              "</table>\n",
              "</div>"
            ],
            "text/plain": [
              "              Name Train size  ...     Train Loss    Valid Loss\n",
              "0      att_nn_summ    1000000  ...   35426.627636  44090.727514\n",
              "1      att_nn_base    1000000  ...   58660.257789  44109.030938\n",
              "2         att_full        All  ...   45558.605985  41262.213786\n",
              "3      att_nn_mean    1000000  ...   25764.752528  44044.973093\n",
              "4        bert_full    3000000  ...   24684.542065  40164.464237\n",
              "5         bert_sgd     400000  ...   32785.515115  38891.078260\n",
              "6        bert_best     400000  ...   28634.016796  39845.152171\n",
              "7             bert      50000  ...   22553.148164  43417.641305\n",
              "8       bert_small     200000  ...   11304.613950  44515.601628\n",
              "9       bert_small     200000  ...  111928.105778  44359.050189\n",
              "10          bert_3      50000  ...   40366.145870  45645.509317\n",
              "11  att_sgd_lr1e-1     200000  ...   58013.945795  42890.179025\n",
              "12  att_sgd_le1e-3     200000  ...  216901.249293  42692.996477\n",
              "13      bert_large     100000  ...   27910.543967           NaN\n",
              "14      bert_large     100000  ...   19225.694372           NaN\n",
              "15      bert_large     100000  ...   15877.524169           NaN\n",
              "16     att_nn_mean    1000000  ...   15598.381752  44009.239343\n",
              "17         att_sgd     200000  ...   16066.309793  43044.547558\n",
              "18      bert_large     100000  ...   19248.728612           NaN\n",
              "19      bert_large     100000  ...   83282.438363           NaN\n",
              "20      bert_large     100000  ...   13939.397157           NaN\n",
              "21      bert_large     100000  ...   22028.527670           NaN\n",
              "\n",
              "[22 rows x 8 columns]"
            ]
          },
          "metadata": {
            "tags": []
          },
          "execution_count": 42
        }
      ]
    },
    {
      "cell_type": "markdown",
      "metadata": {
        "id": "A3S_x9MMAbTy",
        "colab_type": "text"
      },
      "source": [
        "Стоит отметить, что модели, натренированные на 100к примерах даже лучше, чем те, которые тренировались на большем кол-ве данных."
      ]
    }
  ]
}