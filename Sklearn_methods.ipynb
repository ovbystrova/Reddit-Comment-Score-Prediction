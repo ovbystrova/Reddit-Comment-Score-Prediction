{
  "nbformat": 4,
  "nbformat_minor": 0,
  "metadata": {
    "colab": {
      "name": "Sklearn_methods.ipynb",
      "provenance": [],
      "collapsed_sections": [
        "eTJTGLg9gcpe"
      ],
      "machine_shape": "hm"
    },
    "kernelspec": {
      "name": "python3",
      "display_name": "Python 3"
    }
  },
  "cells": [
    {
      "cell_type": "markdown",
      "metadata": {
        "id": "As18CsZfnD65",
        "colab_type": "text"
      },
      "source": [
        "#Predict score field by text and parent_text fields."
      ]
    },
    {
      "cell_type": "code",
      "metadata": {
        "id": "tvCguj33mhOG",
        "colab_type": "code",
        "colab": {}
      },
      "source": [
        "import re\n",
        "import string\n",
        "import numpy as np\n",
        "import pandas as pd\n",
        "from sklearn.model_selection import train_test_split\n",
        "from sklearn.metrics import mean_squared_error\n",
        "from sklearn.preprocessing import StandardScaler, MinMaxScaler\n",
        "\n",
        "\n",
        "import spacy\n",
        "from spacy.symbols import ORTH\n",
        "\n",
        "spacy_en = spacy.load('en')\n",
        "spacy_en.tokenizer.add_special_case(\"don't\", [{ORTH: \"do\"}, {ORTH: \"not\"}])\n",
        "spacy_en.tokenizer.add_special_case(\"didn't\", [{ORTH: \"did\"}, {ORTH: \"not\"}])\n",
        "\n",
        "\n",
        "SEED = 43\n",
        "np.random.seed(SEED)\n",
        "\n",
        "import warnings\n",
        "warnings.filterwarnings('ignore')"
      ],
      "execution_count": 0,
      "outputs": []
    },
    {
      "cell_type": "code",
      "metadata": {
        "id": "4DkkyN6vX3IK",
        "colab_type": "code",
        "colab": {}
      },
      "source": [
        "from google.colab import drive\n",
        "drive.mount('/content/drive')"
      ],
      "execution_count": 0,
      "outputs": []
    },
    {
      "cell_type": "markdown",
      "metadata": {
        "id": "tL9DCJ5ICZz2",
        "colab_type": "text"
      },
      "source": [
        "# Data Prepatation"
      ]
    },
    {
      "cell_type": "code",
      "metadata": {
        "id": "HqX_gy3gnLWN",
        "colab_type": "code",
        "colab": {}
      },
      "source": [
        "columns = [\"text\", \"parent_text\", \"score\"]\n",
        "df = pd.concat([\n",
        "    pd.read_csv(\"/content/drive/My Drive/jetbrains/comments_positive.csv\", usecols=columns, na_filter=False),\n",
        "    pd.read_csv(\"/content/drive/My Drive/jetbrains/comments_negative.csv\", usecols=columns, na_filter=False)\n",
        "], ignore_index=True)"
      ],
      "execution_count": 0,
      "outputs": []
    },
    {
      "cell_type": "code",
      "metadata": {
        "id": "Iy18G_eTnO-V",
        "colab_type": "code",
        "colab": {}
      },
      "source": [
        "y = df['score']\n",
        "df.drop(columns='score', inplace=True)\n",
        "X = df"
      ],
      "execution_count": 0,
      "outputs": []
    },
    {
      "cell_type": "code",
      "metadata": {
        "id": "81-l2_RtnRIK",
        "colab_type": "code",
        "outputId": "c2d2ea58-c2e6-49ed-fc14-d297b9f55c3f",
        "colab": {
          "base_uri": "https://localhost:8080/",
          "height": 50
        }
      },
      "source": [
        "X_train, X_test, y_train, y_test = train_test_split(X, y, test_size=0.05, random_state=SEED)\n",
        "\n",
        "# To be sure we don't use indices to predict something\n",
        "X_train.reset_index(drop=True, inplace=True)\n",
        "X_test.reset_index(drop=True, inplace=True)\n",
        "y_train.reset_index(drop=True, inplace=True)\n",
        "y_test.reset_index(drop=True, inplace=True)\n",
        "\n",
        "print(\"Train shape: {}\".format(X_train.shape))\n",
        "print(\"Test shape: {}\".format(X_test.shape))"
      ],
      "execution_count": 0,
      "outputs": [
        {
          "output_type": "stream",
          "text": [
            "Train shape: (3800000, 2)\n",
            "Test shape: (200000, 2)\n"
          ],
          "name": "stdout"
        }
      ]
    },
    {
      "cell_type": "code",
      "metadata": {
        "id": "15mHj9Rt43Sn",
        "colab_type": "code",
        "outputId": "decbc8e8-949e-4839-fb60-0ec410283e2e",
        "colab": {
          "base_uri": "https://localhost:8080/",
          "height": 195
        }
      },
      "source": [
        "X_train.head()"
      ],
      "execution_count": 0,
      "outputs": [
        {
          "output_type": "execute_result",
          "data": {
            "text/html": [
              "<div>\n",
              "<style scoped>\n",
              "    .dataframe tbody tr th:only-of-type {\n",
              "        vertical-align: middle;\n",
              "    }\n",
              "\n",
              "    .dataframe tbody tr th {\n",
              "        vertical-align: top;\n",
              "    }\n",
              "\n",
              "    .dataframe thead th {\n",
              "        text-align: right;\n",
              "    }\n",
              "</style>\n",
              "<table border=\"1\" class=\"dataframe\">\n",
              "  <thead>\n",
              "    <tr style=\"text-align: right;\">\n",
              "      <th></th>\n",
              "      <th>text</th>\n",
              "      <th>parent_text</th>\n",
              "    </tr>\n",
              "  </thead>\n",
              "  <tbody>\n",
              "    <tr>\n",
              "      <th>0</th>\n",
              "      <td>I was a whole bunch of folks on Recess, yup. :...</td>\n",
              "      <td>Your IMDB just blew my mind. You were Upside D...</td>\n",
              "    </tr>\n",
              "    <tr>\n",
              "      <th>1</th>\n",
              "      <td>I'm not quite sure how that was relevant, but ...</td>\n",
              "      <td>http://i.imgur.com/GKLI7.jpg</td>\n",
              "    </tr>\n",
              "    <tr>\n",
              "      <th>2</th>\n",
              "      <td>Sounds like you weren't paying attention.</td>\n",
              "      <td>Sadly high school history doesn't teach you ab...</td>\n",
              "    </tr>\n",
              "    <tr>\n",
              "      <th>3</th>\n",
              "      <td>&amp;gt;Polygamy doesn't mean that there's just wo...</td>\n",
              "      <td>&amp;gt; from a feminist perspective \\n\\nSo what i...</td>\n",
              "    </tr>\n",
              "    <tr>\n",
              "      <th>4</th>\n",
              "      <td>The New Orleans Gargle-Glub-Glubs.</td>\n",
              "      <td>My high school's mascot was water...</td>\n",
              "    </tr>\n",
              "  </tbody>\n",
              "</table>\n",
              "</div>"
            ],
            "text/plain": [
              "                                                text                                        parent_text\n",
              "0  I was a whole bunch of folks on Recess, yup. :...  Your IMDB just blew my mind. You were Upside D...\n",
              "1  I'm not quite sure how that was relevant, but ...                       http://i.imgur.com/GKLI7.jpg\n",
              "2          Sounds like you weren't paying attention.  Sadly high school history doesn't teach you ab...\n",
              "3  &gt;Polygamy doesn't mean that there's just wo...  &gt; from a feminist perspective \\n\\nSo what i...\n",
              "4                 The New Orleans Gargle-Glub-Glubs.               My high school's mascot was water..."
            ]
          },
          "metadata": {
            "tags": []
          },
          "execution_count": 6
        }
      ]
    },
    {
      "cell_type": "code",
      "metadata": {
        "id": "sVOsJO8uy3ff",
        "colab_type": "code",
        "outputId": "4a5a797a-8b15-4b99-dab4-b7d882137543",
        "colab": {
          "base_uri": "https://localhost:8080/",
          "height": 118
        }
      },
      "source": [
        "y_train.head()"
      ],
      "execution_count": 0,
      "outputs": [
        {
          "output_type": "execute_result",
          "data": {
            "text/plain": [
              "0    454\n",
              "1     71\n",
              "2     -9\n",
              "3    -12\n",
              "4     91\n",
              "Name: score, dtype: int64"
            ]
          },
          "metadata": {
            "tags": []
          },
          "execution_count": 7
        }
      ]
    },
    {
      "cell_type": "markdown",
      "metadata": {
        "id": "eTJTGLg9gcpe",
        "colab_type": "text"
      },
      "source": [
        "## Cleaning the data"
      ]
    },
    {
      "cell_type": "markdown",
      "metadata": {
        "id": "ywrucHXSgf77",
        "colab_type": "text"
      },
      "source": [
        "Т.к. некоторые тексты - это просто смайлики или нечитаемые бессмысленные вещи, то их было решено удалить. Также были удалены строки, если после очисти они были пустыми. Всего из тренировочных данных было удалено около 4500  строк."
      ]
    },
    {
      "cell_type": "code",
      "metadata": {
        "id": "sscXdsqeGEKg",
        "colab_type": "code",
        "colab": {}
      },
      "source": [
        "def clean_text(text):\n",
        "    text = re.sub(r'\\<[^>]*\\>', '', text)\n",
        "    text = re.sub(r'\\\\n', ' ', text)\n",
        "    text = re.sub(r'&[a-z]{0,7};', ' ', text)\n",
        "    text = re.sub('((www\\.[^\\s]+)|(https?://[^\\s]+))','URL',text)\n",
        "    text = re.sub('@[^\\s]+','AT_USER',text)\n",
        "    text = re.sub(r'\\\\x\\d{1,4}', '', text)\n",
        "    text = re.sub(r'\\\\n', ' ', text)\n",
        "    text = re.sub(r'\\r', ' ', text)\n",
        "    text = re.sub('[\\s]+', ' ', text)\n",
        "    text = text.translate(str.maketrans('', '', string.punctuation))\n",
        "    return text\n",
        "\n",
        "def clean_df(df, y, text_cleaner, train=True):\n",
        "    \"\"\"\n",
        "    Apply text_cleaner to df columns and deleting empty rows.\n",
        "\n",
        "    Args:\n",
        "        df : initial DataFrame\n",
        "        y : target values\n",
        "        text_cleaner: function to apply to 'text' and 'parent_text' columns\n",
        "\n",
        "    Returns:\n",
        "        Pandas DataFrame with rating coumns as well\n",
        "    \"\"\"\n",
        "    df_cleaned = pd.DataFrame()\n",
        "    df_cleaned['text'] = df['text'].apply(lambda x: text_cleaner(x))\n",
        "    df_cleaned['parent_text'] = df['parent_text'].apply(lambda x: text_cleaner(x))\n",
        "    df_cleaned['rating'] = y    \n",
        "\n",
        "    if train:\n",
        "        replacing = {'':np.nan, 'null':np.nan, 'NaN':np.nan, 'NA':np.nan}\n",
        "    else:\n",
        "        replacing = {'':'empty', 'null':'empty', 'NaN':'empty', 'NA':'empty'}\n",
        "    df_cleaned['text'].replace(to_replace=replacing, value=None, inplace=True)\n",
        "    df_cleaned['parent_text'].replace(to_replace=replacing, value=None, inplace=True)\n",
        "    df_cleaned.dropna(subset=['text', 'parent_text', 'rating'], inplace=True)\n",
        "    return df_cleaned\n",
        "\n",
        "def tokenizer(text):\n",
        "    return [tok.lemma_ for tok in spacy_en.tokenizer(text) if tok.text.isalpha()]\n",
        "\n",
        "def transform_df(df, tokenizer=tokenizer):\n",
        "    \"\"\"\n",
        "    Adds several columns to df: \n",
        "    1) lemmatized text \n",
        "    2) lemmatized parent text \n",
        "    3) text + parent text \n",
        "    4) lemmatized text + parent text\n",
        "    \"\"\"\n",
        "    # commented because it was not so good and took a lot of ram and time\n",
        "\n",
        "    # df['text_lemm'] = df['text'].apply(lambda x: ' '.join(tokenizer(x)))\n",
        "    # df['parent_lemm'] = df['parent_text'].apply(lambda x: ' '.join(tokenizer(x)))\n",
        "    df['text_and_parent'] = df['text']+ ' ' + df['parent_text']\n",
        "    # df['text_and_parent_lemm'] = df['text_lemm'] + df['parent_lemm']\n",
        "    \n",
        "    return df\n",
        "\n",
        "def scale_y(df, standart=True, training=True, scaler=None):\n",
        "    \"\"\"\n",
        "    Transforms rating score with StandardScaler or MinMaxScaler\n",
        "    Returns pd.DataFrame with new column 'rating_scaled', scaler\n",
        "    \"\"\"\n",
        "    if training:  \n",
        "        scaler = StandardScaler() if standart else MinMaxScaler()     \n",
        "        X = np.array(list(df['rating'])).reshape(-1,1)\n",
        "        scaler.fit(X)\n",
        "    df['rating_scaled'] = df['rating'].apply(lambda x : scaler.transform(np.array(x).reshape(1,-1))[0][0])\n",
        "\n",
        "    return df, scaler"
      ],
      "execution_count": 0,
      "outputs": []
    },
    {
      "cell_type": "code",
      "metadata": {
        "id": "PeeW0FxXj1c_",
        "colab_type": "code",
        "outputId": "60553d32-06bb-4ae8-f7a1-f0e7bd565619",
        "colab": {
          "base_uri": "https://localhost:8080/",
          "height": 34
        }
      },
      "source": [
        "# cleaning df\n",
        "train = clean_df(X_train, y_train, clean_text)\n",
        "test = clean_df(X_test, y_test, clean_text, train=False)\n",
        "train.shape, X_train.shape, test.shape, X_test.shape"
      ],
      "execution_count": 0,
      "outputs": [
        {
          "output_type": "execute_result",
          "data": {
            "text/plain": [
              "((3795465, 3), (3800000, 2), (200000, 3), (200000, 2))"
            ]
          },
          "metadata": {
            "tags": []
          },
          "execution_count": 9
        }
      ]
    },
    {
      "cell_type": "code",
      "metadata": {
        "id": "twAHJ2q9bC91",
        "colab_type": "code",
        "outputId": "fe7890cf-1e58-48d7-8afe-47f894aea908",
        "colab": {
          "base_uri": "https://localhost:8080/",
          "height": 296
        }
      },
      "source": [
        "train = transform_df(train)\n",
        "test = transform_df(test)\n",
        "train.head()"
      ],
      "execution_count": 0,
      "outputs": [
        {
          "output_type": "execute_result",
          "data": {
            "text/html": [
              "<div>\n",
              "<style scoped>\n",
              "    .dataframe tbody tr th:only-of-type {\n",
              "        vertical-align: middle;\n",
              "    }\n",
              "\n",
              "    .dataframe tbody tr th {\n",
              "        vertical-align: top;\n",
              "    }\n",
              "\n",
              "    .dataframe thead th {\n",
              "        text-align: right;\n",
              "    }\n",
              "</style>\n",
              "<table border=\"1\" class=\"dataframe\">\n",
              "  <thead>\n",
              "    <tr style=\"text-align: right;\">\n",
              "      <th></th>\n",
              "      <th>text</th>\n",
              "      <th>parent_text</th>\n",
              "      <th>rating</th>\n",
              "      <th>text_and_parent</th>\n",
              "    </tr>\n",
              "  </thead>\n",
              "  <tbody>\n",
              "    <tr>\n",
              "      <th>0</th>\n",
              "      <td>I was a whole bunch of folks on Recess yup  Th...</td>\n",
              "      <td>Your IMDB just blew my mind You were Upside Do...</td>\n",
              "      <td>454</td>\n",
              "      <td>I was a whole bunch of folks on Recess yup  Th...</td>\n",
              "    </tr>\n",
              "    <tr>\n",
              "      <th>1</th>\n",
              "      <td>Im not quite sure how that was relevant but Im...</td>\n",
              "      <td>URL</td>\n",
              "      <td>71</td>\n",
              "      <td>Im not quite sure how that was relevant but Im...</td>\n",
              "    </tr>\n",
              "    <tr>\n",
              "      <th>2</th>\n",
              "      <td>Sounds like you werent paying attention</td>\n",
              "      <td>Sadly high school history doesnt teach you abo...</td>\n",
              "      <td>-9</td>\n",
              "      <td>Sounds like you werent paying attention Sadly ...</td>\n",
              "    </tr>\n",
              "    <tr>\n",
              "      <th>3</th>\n",
              "      <td>Polygamy doesnt mean that theres just women i...</td>\n",
              "      <td>from a feminist perspective So what if you wo...</td>\n",
              "      <td>-12</td>\n",
              "      <td>Polygamy doesnt mean that theres just women i...</td>\n",
              "    </tr>\n",
              "    <tr>\n",
              "      <th>4</th>\n",
              "      <td>The New Orleans GargleGlubGlubs</td>\n",
              "      <td>My high schools mascot was water</td>\n",
              "      <td>91</td>\n",
              "      <td>The New Orleans GargleGlubGlubs My high school...</td>\n",
              "    </tr>\n",
              "  </tbody>\n",
              "</table>\n",
              "</div>"
            ],
            "text/plain": [
              "                                                text  ...                                    text_and_parent\n",
              "0  I was a whole bunch of folks on Recess yup  Th...  ...  I was a whole bunch of folks on Recess yup  Th...\n",
              "1  Im not quite sure how that was relevant but Im...  ...  Im not quite sure how that was relevant but Im...\n",
              "2            Sounds like you werent paying attention  ...  Sounds like you werent paying attention Sadly ...\n",
              "3   Polygamy doesnt mean that theres just women i...  ...   Polygamy doesnt mean that theres just women i...\n",
              "4                    The New Orleans GargleGlubGlubs  ...  The New Orleans GargleGlubGlubs My high school...\n",
              "\n",
              "[5 rows x 4 columns]"
            ]
          },
          "metadata": {
            "tags": []
          },
          "execution_count": 10
        }
      ]
    },
    {
      "cell_type": "code",
      "metadata": {
        "id": "X96NoSwZbUaz",
        "colab_type": "code",
        "outputId": "3c50d6d6-a512-4b8a-8ee5-d2a73a269867",
        "colab": {
          "base_uri": "https://localhost:8080/",
          "height": 346
        }
      },
      "source": [
        "# adding normilized rating score\n",
        "train, scaler = scale_y(train)\n",
        "test, scaler  = scale_y(test, training=False, scaler=scaler)\n",
        "train.head()"
      ],
      "execution_count": 0,
      "outputs": [
        {
          "output_type": "execute_result",
          "data": {
            "text/html": [
              "<div>\n",
              "<style scoped>\n",
              "    .dataframe tbody tr th:only-of-type {\n",
              "        vertical-align: middle;\n",
              "    }\n",
              "\n",
              "    .dataframe tbody tr th {\n",
              "        vertical-align: top;\n",
              "    }\n",
              "\n",
              "    .dataframe thead th {\n",
              "        text-align: right;\n",
              "    }\n",
              "</style>\n",
              "<table border=\"1\" class=\"dataframe\">\n",
              "  <thead>\n",
              "    <tr style=\"text-align: right;\">\n",
              "      <th></th>\n",
              "      <th>text</th>\n",
              "      <th>parent_text</th>\n",
              "      <th>rating</th>\n",
              "      <th>text_and_parent</th>\n",
              "      <th>rating_scaled</th>\n",
              "    </tr>\n",
              "  </thead>\n",
              "  <tbody>\n",
              "    <tr>\n",
              "      <th>0</th>\n",
              "      <td>I was a whole bunch of folks on Recess yup  Th...</td>\n",
              "      <td>Your IMDB just blew my mind You were Upside Do...</td>\n",
              "      <td>454</td>\n",
              "      <td>I was a whole bunch of folks on Recess yup  Th...</td>\n",
              "      <td>1.709532</td>\n",
              "    </tr>\n",
              "    <tr>\n",
              "      <th>1</th>\n",
              "      <td>Im not quite sure how that was relevant but Im...</td>\n",
              "      <td>URL</td>\n",
              "      <td>71</td>\n",
              "      <td>Im not quite sure how that was relevant but Im...</td>\n",
              "      <td>-0.098649</td>\n",
              "    </tr>\n",
              "    <tr>\n",
              "      <th>2</th>\n",
              "      <td>Sounds like you werent paying attention</td>\n",
              "      <td>Sadly high school history doesnt teach you abo...</td>\n",
              "      <td>-9</td>\n",
              "      <td>Sounds like you werent paying attention Sadly ...</td>\n",
              "      <td>-0.476337</td>\n",
              "    </tr>\n",
              "    <tr>\n",
              "      <th>3</th>\n",
              "      <td>Polygamy doesnt mean that theres just women i...</td>\n",
              "      <td>from a feminist perspective So what if you wo...</td>\n",
              "      <td>-12</td>\n",
              "      <td>Polygamy doesnt mean that theres just women i...</td>\n",
              "      <td>-0.490500</td>\n",
              "    </tr>\n",
              "    <tr>\n",
              "      <th>4</th>\n",
              "      <td>The New Orleans GargleGlubGlubs</td>\n",
              "      <td>My high schools mascot was water</td>\n",
              "      <td>91</td>\n",
              "      <td>The New Orleans GargleGlubGlubs My high school...</td>\n",
              "      <td>-0.004227</td>\n",
              "    </tr>\n",
              "  </tbody>\n",
              "</table>\n",
              "</div>"
            ],
            "text/plain": [
              "                                                text  ... rating_scaled\n",
              "0  I was a whole bunch of folks on Recess yup  Th...  ...      1.709532\n",
              "1  Im not quite sure how that was relevant but Im...  ...     -0.098649\n",
              "2            Sounds like you werent paying attention  ...     -0.476337\n",
              "3   Polygamy doesnt mean that theres just women i...  ...     -0.490500\n",
              "4                    The New Orleans GargleGlubGlubs  ...     -0.004227\n",
              "\n",
              "[5 rows x 5 columns]"
            ]
          },
          "metadata": {
            "tags": []
          },
          "execution_count": 11
        }
      ]
    },
    {
      "cell_type": "markdown",
      "metadata": {
        "id": "BNqbg1SH3G6B",
        "colab_type": "text"
      },
      "source": [
        "Убедимся, что ничего не съехало:"
      ]
    },
    {
      "cell_type": "code",
      "metadata": {
        "id": "cg5UShPE3EXv",
        "colab_type": "code",
        "outputId": "b4585f73-c8f8-4447-d4f2-69366818b0a1",
        "colab": {
          "base_uri": "https://localhost:8080/",
          "height": 185
        }
      },
      "source": [
        "train.iloc[-1], X_train.iloc[-1], y_train.iloc[-1]"
      ],
      "execution_count": 0,
      "outputs": [
        {
          "output_type": "execute_result",
          "data": {
            "text/plain": [
              "(text               4x the pixels has nothing to do with the resol...\n",
              " parent_text        The new GPU is 2x as powerful as the iPad 2s b...\n",
              " rating                                                            -8\n",
              " text_and_parent    4x the pixels has nothing to do with the resol...\n",
              " rating_scaled                                              -0.471616\n",
              " Name: 3799999, dtype: object,\n",
              " text           4x the pixels has nothing to do with the resol...\n",
              " parent_text    The new GPU is 2x as powerful as the iPad 2's,...\n",
              " Name: 3799999, dtype: object,\n",
              " -8)"
            ]
          },
          "metadata": {
            "tags": []
          },
          "execution_count": 12
        }
      ]
    },
    {
      "cell_type": "code",
      "metadata": {
        "id": "e3iAy_OB3E8W",
        "colab_type": "code",
        "outputId": "cffe5a2d-6604-4576-876b-324e0dd66d2f",
        "colab": {
          "base_uri": "https://localhost:8080/",
          "height": 185
        }
      },
      "source": [
        "test.iloc[-1], X_test.iloc[-1], y_test.iloc[-1]"
      ],
      "execution_count": 0,
      "outputs": [
        {
          "output_type": "execute_result",
          "data": {
            "text/plain": [
              "(text               Ha people on Reddit go on the side of whoever ...\n",
              " parent_text        I just hope you guys dont ruin it for the play...\n",
              " rating                                                            91\n",
              " text_and_parent    Ha people on Reddit go on the side of whoever ...\n",
              " rating_scaled                                            -0.00422711\n",
              " Name: 199999, dtype: object,\n",
              " text           Ha, people on Reddit go on the side of whoever...\n",
              " parent_text    I just hope you guys don't ruin it for the pla...\n",
              " Name: 199999, dtype: object,\n",
              " 91)"
            ]
          },
          "metadata": {
            "tags": []
          },
          "execution_count": 13
        }
      ]
    },
    {
      "cell_type": "code",
      "metadata": {
        "id": "I7ROZUxJKMK3",
        "colab_type": "code",
        "outputId": "caf641ef-3c5f-40f3-cff9-00e2ce58969a",
        "colab": {
          "base_uri": "https://localhost:8080/",
          "height": 346
        }
      },
      "source": [
        "train.head()"
      ],
      "execution_count": 0,
      "outputs": [
        {
          "output_type": "execute_result",
          "data": {
            "text/html": [
              "<div>\n",
              "<style scoped>\n",
              "    .dataframe tbody tr th:only-of-type {\n",
              "        vertical-align: middle;\n",
              "    }\n",
              "\n",
              "    .dataframe tbody tr th {\n",
              "        vertical-align: top;\n",
              "    }\n",
              "\n",
              "    .dataframe thead th {\n",
              "        text-align: right;\n",
              "    }\n",
              "</style>\n",
              "<table border=\"1\" class=\"dataframe\">\n",
              "  <thead>\n",
              "    <tr style=\"text-align: right;\">\n",
              "      <th></th>\n",
              "      <th>text</th>\n",
              "      <th>parent_text</th>\n",
              "      <th>rating</th>\n",
              "      <th>text_and_parent</th>\n",
              "      <th>rating_scaled</th>\n",
              "    </tr>\n",
              "  </thead>\n",
              "  <tbody>\n",
              "    <tr>\n",
              "      <th>0</th>\n",
              "      <td>I was a whole bunch of folks on Recess yup  Th...</td>\n",
              "      <td>Your IMDB just blew my mind You were Upside Do...</td>\n",
              "      <td>454</td>\n",
              "      <td>I was a whole bunch of folks on Recess yup  Th...</td>\n",
              "      <td>1.709532</td>\n",
              "    </tr>\n",
              "    <tr>\n",
              "      <th>1</th>\n",
              "      <td>Im not quite sure how that was relevant but Im...</td>\n",
              "      <td>URL</td>\n",
              "      <td>71</td>\n",
              "      <td>Im not quite sure how that was relevant but Im...</td>\n",
              "      <td>-0.098649</td>\n",
              "    </tr>\n",
              "    <tr>\n",
              "      <th>2</th>\n",
              "      <td>Sounds like you werent paying attention</td>\n",
              "      <td>Sadly high school history doesnt teach you abo...</td>\n",
              "      <td>-9</td>\n",
              "      <td>Sounds like you werent paying attention Sadly ...</td>\n",
              "      <td>-0.476337</td>\n",
              "    </tr>\n",
              "    <tr>\n",
              "      <th>3</th>\n",
              "      <td>Polygamy doesnt mean that theres just women i...</td>\n",
              "      <td>from a feminist perspective So what if you wo...</td>\n",
              "      <td>-12</td>\n",
              "      <td>Polygamy doesnt mean that theres just women i...</td>\n",
              "      <td>-0.490500</td>\n",
              "    </tr>\n",
              "    <tr>\n",
              "      <th>4</th>\n",
              "      <td>The New Orleans GargleGlubGlubs</td>\n",
              "      <td>My high schools mascot was water</td>\n",
              "      <td>91</td>\n",
              "      <td>The New Orleans GargleGlubGlubs My high school...</td>\n",
              "      <td>-0.004227</td>\n",
              "    </tr>\n",
              "  </tbody>\n",
              "</table>\n",
              "</div>"
            ],
            "text/plain": [
              "                                                text  ... rating_scaled\n",
              "0  I was a whole bunch of folks on Recess yup  Th...  ...      1.709532\n",
              "1  Im not quite sure how that was relevant but Im...  ...     -0.098649\n",
              "2            Sounds like you werent paying attention  ...     -0.476337\n",
              "3   Polygamy doesnt mean that theres just women i...  ...     -0.490500\n",
              "4                    The New Orleans GargleGlubGlubs  ...     -0.004227\n",
              "\n",
              "[5 rows x 5 columns]"
            ]
          },
          "metadata": {
            "tags": []
          },
          "execution_count": 14
        }
      ]
    },
    {
      "cell_type": "markdown",
      "metadata": {
        "id": "Sf41nvrBLbyp",
        "colab_type": "text"
      },
      "source": [
        "# Sklearn Models"
      ]
    },
    {
      "cell_type": "code",
      "metadata": {
        "id": "vXkk_QbwNrMF",
        "colab_type": "code",
        "colab": {}
      },
      "source": [
        "from sklearn.feature_extraction.text import TfidfVectorizer\n",
        "from sklearn.linear_model import LinearRegression, Ridge, RidgeCV, SGDRegressor, Lasso"
      ],
      "execution_count": 0,
      "outputs": []
    },
    {
      "cell_type": "code",
      "metadata": {
        "id": "ohzt4briOOui",
        "colab_type": "code",
        "outputId": "918c9077-bcb6-46ad-e635-eeaa8b0959c6",
        "colab": {
          "base_uri": "https://localhost:8080/",
          "height": 34
        }
      },
      "source": [
        "# TfidfVectorizer params were chosen mostly based on RAM limits\n",
        "vectorizer = TfidfVectorizer(lowercase=True, ngram_range=(1,2), analyzer='word',\n",
        "                             stop_words='english', max_features=200000)\n",
        "X_train = vectorizer.fit_transform(train['text_and_parent'])\n",
        "X_test = vectorizer.transform(test['text_and_parent'])\n",
        "X_train.shape, X_test.shape"
      ],
      "execution_count": 0,
      "outputs": [
        {
          "output_type": "execute_result",
          "data": {
            "text/plain": [
              "((3795465, 200000), (200000, 200000))"
            ]
          },
          "metadata": {
            "tags": []
          },
          "execution_count": 16
        }
      ]
    },
    {
      "cell_type": "markdown",
      "metadata": {
        "id": "osfrtMmYCU0G",
        "colab_type": "text"
      },
      "source": [
        "После перебора нескольких вариантов исходного текста ('text', 'text_lemm', 'text_and_parent', 'text_and_parent_lemm') было решено использовать 'text_and_parent' для построения tf-idf матрицы (так MSE минимальна для большинства моделей). \n",
        "\n",
        "\n",
        "Далее смотрим на ошибки на тренировочной и тестовой выборках и выбирем модель для кросс-валидации. "
      ]
    },
    {
      "cell_type": "code",
      "metadata": {
        "id": "WSFzVexaoDSU",
        "colab_type": "code",
        "colab": {}
      },
      "source": [
        "def check_model(model, name, X_train, y_train, X_test, y_test, scaler=scaler):\n",
        "    \"\"\"\n",
        "    Fits model on train data and prints MSE error information for train/test data\n",
        "    \"\"\"\n",
        "    model.fit(X_train, y_train)\n",
        "    y_pred = model.predict(X_test)\n",
        "    y_pred_train = model.predict(X_train)\n",
        "    print('[TRAIN] MSE for {} [SCALED Y] - {}'.format(name, mean_squared_error(y_train, y_pred_train)))\n",
        "    print('[TEST] MSE for {} [SCALED Y] - {}'.format(name, mean_squared_error(y_test, y_pred)))\n",
        "    print('[TRAIN] MSE for {} [ORIGINAL Y] - {}'.format(name, mean_squared_error(scaler.inverse_transform(y_train), scaler.inverse_transform(y_pred_train))))\n",
        "    print('[TEST] MSE for {} [ORIGINAL Y] - {}'.format(name, mean_squared_error(scaler.inverse_transform(y_test), scaler.inverse_transform(y_pred))))\n",
        "    print()"
      ],
      "execution_count": 0,
      "outputs": []
    },
    {
      "cell_type": "code",
      "metadata": {
        "id": "iG8jBLPP0kvn",
        "colab_type": "code",
        "outputId": "07485c7d-83c1-4b88-8980-e4625ad4402e",
        "colab": {
          "base_uri": "https://localhost:8080/",
          "height": 185
        }
      },
      "source": [
        "for model, name in [(Ridge(), 'Ridge'), (SGDRegressor(), 'SGD'), (Lasso(), 'Lasso')]:\n",
        "    check_model(model, name, X_train, train['rating_scaled'], X_test, test['rating_scaled'])"
      ],
      "execution_count": 0,
      "outputs": [
        {
          "output_type": "stream",
          "text": [
            "[TRAIN] MSE for Ridge [SCALED Y] - 0.8292247731167245\n",
            "[TEST] MSE for Ridge [SCALED Y] - 0.8928051132111298\n",
            "[TRAIN] MSE for Ridge [ORIGINAL Y] - 37203.67066495778\n",
            "[TEST] MSE for Ridge [ORIGINAL Y] - 40056.2410539822\n",
            "\n",
            "[TRAIN] MSE for SGD [SCALED Y] - 0.9279282281703671\n",
            "[TEST] MSE for SGD [SCALED Y] - 0.9146510793218114\n",
            "[TRAIN] MSE for SGD [ORIGINAL Y] - 41632.06083654796\n",
            "[TEST] MSE for SGD [ORIGINAL Y] - 41036.37352817834\n",
            "\n"
          ],
          "name": "stdout"
        }
      ]
    },
    {
      "cell_type": "markdown",
      "metadata": {
        "id": "W9fSleXgVKMU",
        "colab_type": "text"
      },
      "source": [
        "Подберем гиперпараметры для Ridge регрессии:"
      ]
    },
    {
      "cell_type": "code",
      "metadata": {
        "id": "xFID4FYLCvt9",
        "colab_type": "code",
        "outputId": "97816f05-d686-442d-af0a-c02476ac2ff3",
        "colab": {
          "base_uri": "https://localhost:8080/",
          "height": 50
        }
      },
      "source": [
        "model = RidgeCV(cv=3, alphas=[0.1, 1.0, 10, 100])\n",
        "model.fit(X_train, train['rating_scaled'])"
      ],
      "execution_count": 21,
      "outputs": [
        {
          "output_type": "execute_result",
          "data": {
            "text/plain": [
              "RidgeCV(alphas=array([  0.1,   1. ,  10. , 100. ]), cv=3, fit_intercept=True,\n",
              "        gcv_mode=None, normalize=False, scoring=None, store_cv_values=False)"
            ]
          },
          "metadata": {
            "tags": []
          },
          "execution_count": 21
        }
      ]
    },
    {
      "cell_type": "code",
      "metadata": {
        "id": "GBZWkHz7XWN3",
        "colab_type": "code",
        "outputId": "5672fba9-d9f9-4ad0-ff82-10545e8622df",
        "colab": {
          "base_uri": "https://localhost:8080/",
          "height": 50
        }
      },
      "source": [
        "print('NEG MSE [TRAIN]: {}'.format(model.score(X_train, train['rating_scaled'])))\n",
        "print('NEG MSE [TEST]: {}'.format(model.score(X_test, test['rating_scaled'])))"
      ],
      "execution_count": 22,
      "outputs": [
        {
          "output_type": "stream",
          "text": [
            "NEG MSE [TRAIN]: 0.1460142057322511\n",
            "NEG MSE [TEST]: 0.1083783128002126\n"
          ],
          "name": "stdout"
        }
      ]
    },
    {
      "cell_type": "code",
      "metadata": {
        "id": "sbHgtSKiedmC",
        "colab_type": "code",
        "outputId": "0569b48f-e2dc-445d-b781-91b01664e681",
        "colab": {
          "base_uri": "https://localhost:8080/",
          "height": 50
        }
      },
      "source": [
        "mse_train_s = mean_squared_error(train['rating_scaled'], model.predict(X_train))\n",
        "mse_train = mean_squared_error(train['rating'], scaler.inverse_transform(model.predict(X_train)).astype(int))\n",
        "\n",
        "print('MSE [TRAIN_SCALED]: {}'.format(mse_train_s))\n",
        "print('MSE [TRAIN]: {}'.format(mse_train))"
      ],
      "execution_count": 23,
      "outputs": [
        {
          "output_type": "stream",
          "text": [
            "MSE [TRAIN_SCALED]: 0.8539857942677487\n",
            "MSE [TRAIN]: 38310.67912680001\n"
          ],
          "name": "stdout"
        }
      ]
    },
    {
      "cell_type": "code",
      "metadata": {
        "id": "hPSb2JYDYAIg",
        "colab_type": "code",
        "outputId": "c3054a5b-b724-4fd3-8c81-8f7b6a93c68f",
        "colab": {
          "base_uri": "https://localhost:8080/",
          "height": 50
        }
      },
      "source": [
        "mse_test_s = mean_squared_error(test['rating_scaled'], model.predict(X_test))\n",
        "mse_test = mean_squared_error(test['rating'], scaler.inverse_transform(model.predict(X_test)).astype(int))\n",
        "\n",
        "print('MSE [TEST_SCALED]: {}'.format(mse_test_s))\n",
        "print('MSE [TEST]: {}'.format(mse_test))"
      ],
      "execution_count": 24,
      "outputs": [
        {
          "output_type": "stream",
          "text": [
            "MSE [TEST_SCALED]: 0.8791710848930371\n",
            "MSE [TEST]: 39439.86682\n"
          ],
          "name": "stdout"
        }
      ]
    },
    {
      "cell_type": "markdown",
      "metadata": {
        "id": "kVN6V-VrMMbp",
        "colab_type": "text"
      },
      "source": [
        "MSE на тестовых данных: 39 439. "
      ]
    }
  ]
}