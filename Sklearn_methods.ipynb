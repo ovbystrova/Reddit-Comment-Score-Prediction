{
  "nbformat": 4,
  "nbformat_minor": 0,
  "metadata": {
    "colab": {
      "name": "Sklearn methods.ipynb",
      "provenance": [],
      "collapsed_sections": [
        "eTJTGLg9gcpe"
      ],
      "machine_shape": "hm"
    },
    "kernelspec": {
      "name": "python3",
      "display_name": "Python 3"
    }
  },
  "cells": [
    {
      "cell_type": "markdown",
      "metadata": {
        "id": "As18CsZfnD65",
        "colab_type": "text"
      },
      "source": [
        "#Predict score field by text and parent_text fields."
      ]
    },
    {
      "cell_type": "markdown",
      "metadata": {
        "id": "HkTJAl1SoAp_",
        "colab_type": "text"
      },
      "source": [
        "Вы не можете использовать тестовую выборку для обучения модели.\n",
        "Результатом выполненного тестового задания является jupyter notebook c проведенным экспериментом. Клетки ноутбука должны быть выполнены по порядку сверху вниз. Должна быть обеспечена воспроизводимость эксперимента."
      ]
    },
    {
      "cell_type": "code",
      "metadata": {
        "id": "tvCguj33mhOG",
        "colab_type": "code",
        "colab": {}
      },
      "source": [
        "import re\n",
        "import string\n",
        "import numpy as np\n",
        "import pandas as pd\n",
        "from sklearn.model_selection import train_test_split\n",
        "from sklearn.metrics import mean_squared_error\n",
        "from sklearn.preprocessing import StandardScaler, MinMaxScaler\n",
        "\n",
        "\n",
        "import spacy\n",
        "from spacy.symbols import ORTH\n",
        "\n",
        "spacy_en = spacy.load('en')\n",
        "spacy_en.tokenizer.add_special_case(\"don't\", [{ORTH: \"do\"}, {ORTH: \"not\"}])\n",
        "spacy_en.tokenizer.add_special_case(\"didn't\", [{ORTH: \"did\"}, {ORTH: \"not\"}])\n",
        "\n",
        "\n",
        "SEED = 43\n",
        "np.random.seed(SEED)\n",
        "\n",
        "import warnings\n",
        "warnings.filterwarnings('ignore')"
      ],
      "execution_count": 0,
      "outputs": []
    },
    {
      "cell_type": "code",
      "metadata": {
        "id": "4DkkyN6vX3IK",
        "colab_type": "code",
        "colab": {}
      },
      "source": [
        "# from google.colab import drive\n",
        "# drive.mount('/content/drive')"
      ],
      "execution_count": 0,
      "outputs": []
    },
    {
      "cell_type": "markdown",
      "metadata": {
        "id": "tL9DCJ5ICZz2",
        "colab_type": "text"
      },
      "source": [
        "# Data Prepatation"
      ]
    },
    {
      "cell_type": "code",
      "metadata": {
        "id": "HqX_gy3gnLWN",
        "colab_type": "code",
        "colab": {}
      },
      "source": [
        "columns = [\"text\", \"parent_text\", \"score\"]\n",
        "df = pd.concat([\n",
        "    pd.read_csv(\"comments_positive.csv\", usecols=columns, na_filter=False),\n",
        "    pd.read_csv(\"comments_negative.csv\", usecols=columns, na_filter=False)\n",
        "], ignore_index=True)"
      ],
      "execution_count": 0,
      "outputs": []
    },
    {
      "cell_type": "code",
      "metadata": {
        "id": "Iy18G_eTnO-V",
        "colab_type": "code",
        "colab": {}
      },
      "source": [
        "y = df['score']\n",
        "df.drop(columns='score', inplace=True)\n",
        "X = df"
      ],
      "execution_count": 0,
      "outputs": []
    },
    {
      "cell_type": "code",
      "metadata": {
        "id": "81-l2_RtnRIK",
        "colab_type": "code",
        "outputId": "81470fcc-e062-45e9-cccb-1db5a89f912e",
        "colab": {
          "base_uri": "https://localhost:8080/",
          "height": 50
        }
      },
      "source": [
        "X_train, X_test, y_train, y_test = train_test_split(X, y, test_size=0.05, random_state=SEED)\n",
        "\n",
        "# To be sure we don't use indices to predict something\n",
        "X_train.reset_index(drop=True, inplace=True)\n",
        "X_test.reset_index(drop=True, inplace=True)\n",
        "y_train.reset_index(drop=True, inplace=True)\n",
        "y_test.reset_index(drop=True, inplace=True)\n",
        "\n",
        "print(\"Train shape: {}\".format(X_train.shape))\n",
        "print(\"Test shape: {}\".format(X_test.shape))"
      ],
      "execution_count": 5,
      "outputs": [
        {
          "output_type": "stream",
          "text": [
            "Train shape: (3800000, 2)\n",
            "Test shape: (200000, 2)\n"
          ],
          "name": "stdout"
        }
      ]
    },
    {
      "cell_type": "code",
      "metadata": {
        "id": "15mHj9Rt43Sn",
        "colab_type": "code",
        "outputId": "02587fd7-e74f-463e-90e0-976d8b2e806d",
        "colab": {
          "base_uri": "https://localhost:8080/",
          "height": 229
        }
      },
      "source": [
        "X_train.head()"
      ],
      "execution_count": 6,
      "outputs": [
        {
          "output_type": "execute_result",
          "data": {
            "text/html": [
              "<div>\n",
              "<style scoped>\n",
              "    .dataframe tbody tr th:only-of-type {\n",
              "        vertical-align: middle;\n",
              "    }\n",
              "\n",
              "    .dataframe tbody tr th {\n",
              "        vertical-align: top;\n",
              "    }\n",
              "\n",
              "    .dataframe thead th {\n",
              "        text-align: right;\n",
              "    }\n",
              "</style>\n",
              "<table border=\"1\" class=\"dataframe\">\n",
              "  <thead>\n",
              "    <tr style=\"text-align: right;\">\n",
              "      <th></th>\n",
              "      <th>text</th>\n",
              "      <th>parent_text</th>\n",
              "    </tr>\n",
              "  </thead>\n",
              "  <tbody>\n",
              "    <tr>\n",
              "      <th>0</th>\n",
              "      <td>I was a whole bunch of folks on Recess, yup. :...</td>\n",
              "      <td>Your IMDB just blew my mind. You were Upside D...</td>\n",
              "    </tr>\n",
              "    <tr>\n",
              "      <th>1</th>\n",
              "      <td>I'm not quite sure how that was relevant, but ...</td>\n",
              "      <td>http://i.imgur.com/GKLI7.jpg</td>\n",
              "    </tr>\n",
              "    <tr>\n",
              "      <th>2</th>\n",
              "      <td>Sounds like you weren't paying attention.</td>\n",
              "      <td>Sadly high school history doesn't teach you ab...</td>\n",
              "    </tr>\n",
              "    <tr>\n",
              "      <th>3</th>\n",
              "      <td>&amp;gt;Polygamy doesn't mean that there's just wo...</td>\n",
              "      <td>&amp;gt; from a feminist perspective \\n\\nSo what i...</td>\n",
              "    </tr>\n",
              "    <tr>\n",
              "      <th>4</th>\n",
              "      <td>The New Orleans Gargle-Glub-Glubs.</td>\n",
              "      <td>My high school's mascot was water...</td>\n",
              "    </tr>\n",
              "  </tbody>\n",
              "</table>\n",
              "</div>"
            ],
            "text/plain": [
              "                                                text                                        parent_text\n",
              "0  I was a whole bunch of folks on Recess, yup. :...  Your IMDB just blew my mind. You were Upside D...\n",
              "1  I'm not quite sure how that was relevant, but ...                       http://i.imgur.com/GKLI7.jpg\n",
              "2          Sounds like you weren't paying attention.  Sadly high school history doesn't teach you ab...\n",
              "3  &gt;Polygamy doesn't mean that there's just wo...  &gt; from a feminist perspective \\n\\nSo what i...\n",
              "4                 The New Orleans Gargle-Glub-Glubs.               My high school's mascot was water..."
            ]
          },
          "metadata": {
            "tags": []
          },
          "execution_count": 6
        }
      ]
    },
    {
      "cell_type": "code",
      "metadata": {
        "id": "sVOsJO8uy3ff",
        "colab_type": "code",
        "outputId": "fdc8836d-2b18-4871-8d36-2f142e46ed2f",
        "colab": {
          "base_uri": "https://localhost:8080/",
          "height": 118
        }
      },
      "source": [
        "y_train.head()"
      ],
      "execution_count": 7,
      "outputs": [
        {
          "output_type": "execute_result",
          "data": {
            "text/plain": [
              "0    454\n",
              "1     71\n",
              "2     -9\n",
              "3    -12\n",
              "4     91\n",
              "Name: score, dtype: int64"
            ]
          },
          "metadata": {
            "tags": []
          },
          "execution_count": 7
        }
      ]
    },
    {
      "cell_type": "markdown",
      "metadata": {
        "id": "eTJTGLg9gcpe",
        "colab_type": "text"
      },
      "source": [
        "## Cleaning the data"
      ]
    },
    {
      "cell_type": "markdown",
      "metadata": {
        "id": "ywrucHXSgf77",
        "colab_type": "text"
      },
      "source": [
        "Т.к. некоторые тексты - это просто смайлики или нечитаемые бессмысленные вещи, то их было решено удалить. Также были удалены строки, если после очисти они были пустыми. Всего из тренировочных данных было удалено около 4.5 к строк. Из тестовых - 240. "
      ]
    },
    {
      "cell_type": "code",
      "metadata": {
        "id": "sscXdsqeGEKg",
        "colab_type": "code",
        "colab": {}
      },
      "source": [
        "def clean_text(text):\n",
        "    text = re.sub(r'\\<[^>]*\\>', '', text)\n",
        "    text = re.sub(r'\\\\n', ' ', text)\n",
        "    text = re.sub(r'&[a-z]{0,7};', ' ', text)\n",
        "    text = re.sub('((www\\.[^\\s]+)|(https?://[^\\s]+))','URL',text)\n",
        "    text = re.sub('@[^\\s]+','AT_USER',text)\n",
        "    text = re.sub(r'\\\\x\\d{1,4}', '', text)\n",
        "    text = re.sub(r'\\\\n', ' ', text)\n",
        "    text = re.sub(r'\\r', ' ', text)\n",
        "    text = re.sub('[\\s]+', ' ', text)\n",
        "    text = text.translate(str.maketrans('', '', string.punctuation))\n",
        "    return text\n",
        "\n",
        "def clean_df(df, y, text_cleaner):\n",
        "    \"\"\"\n",
        "    Apply text_cleaner to df columns and deleting empty rows.\n",
        "\n",
        "    Args:\n",
        "        df : initial DataFrame\n",
        "        y : target values\n",
        "        text_cleaner: function to apply to 'text' and 'parent_text' columns\n",
        "\n",
        "    Returns:\n",
        "        Pandas DataFrame with rating coumns as well\n",
        "    \"\"\"\n",
        "    df_cleaned = pd.DataFrame()\n",
        "    df_cleaned['text'] = df['text'].apply(lambda x: text_cleaner(x))\n",
        "    df_cleaned['parent_text'] = df['parent_text'].apply(lambda x: text_cleaner(x))\n",
        "    df_cleaned['rating'] = y    \n",
        "\n",
        "    replacing = {'':np.nan, 'null':np.nan, 'NaN':np.nan, 'NA':np.nan}\n",
        "    df_cleaned['text'].replace(to_replace=replacing, value=None, inplace=True)\n",
        "    df_cleaned['parent_text'].replace(to_replace=replacing, value=None, inplace=True)\n",
        "    df_cleaned.dropna(subset=['text', 'parent_text', 'rating'], inplace=True)\n",
        "    return df_cleaned\n",
        "\n",
        "def tokenizer(text):\n",
        "    return [tok.lemma_ for tok in spacy_en.tokenizer(text) if tok.text.isalpha()]\n",
        "\n",
        "def transform_df(df, tokenizer=tokenizer):\n",
        "    \"\"\"\n",
        "    Adds several columns to df: \n",
        "    1) lemmatized text \n",
        "    2) lemmatized parent text \n",
        "    3) text + parent text \n",
        "    4) lemmatized text + parent text\n",
        "    \"\"\"\n",
        "    df['text_lemm'] = df['text'].apply(lambda x: ' '.join(tokenizer(x)))\n",
        "    df['parent_lemm'] = df['parent_text'].apply(lambda x: ' '.join(tokenizer(x)))\n",
        "    df['text_and_parent'] = df['text'] + df['parent_text']\n",
        "    df['text_and_parent_lemm'] = df['text_lemm'] + df['parent_lemm']\n",
        "    \n",
        "    return df\n",
        "\n",
        "def scale_y(df, standart=True, training=True, scaler=None):\n",
        "    \"\"\"\n",
        "    Transforms rating score with StandardScaler or MinMaxScaler\n",
        "    Returns pd.DataFrame with new column 'rating_scaled', scaler\n",
        "    \"\"\"\n",
        "    if training:  \n",
        "        scaler = StandardScaler() if standart else MinMaxScaler()     \n",
        "        X = np.array(list(df['rating'])).reshape(-1,1)\n",
        "        scaler.fit(X)\n",
        "    df['rating_scaled'] = df['rating'].apply(lambda x : scaler.transform(np.array(x).reshape(1,-1))[0][0])\n",
        "\n",
        "    return df, scaler"
      ],
      "execution_count": 0,
      "outputs": []
    },
    {
      "cell_type": "code",
      "metadata": {
        "id": "PeeW0FxXj1c_",
        "colab_type": "code",
        "outputId": "e6f231b2-222a-46ab-987f-e240ea3fa5e2",
        "colab": {
          "base_uri": "https://localhost:8080/",
          "height": 34
        }
      },
      "source": [
        "train = clean_df(X_train, y_train, clean_text)\n",
        "test = clean_df(X_test, y_test, clean_text)\n",
        "train.shape, X_train.shape, test.shape, X_test.shape"
      ],
      "execution_count": 9,
      "outputs": [
        {
          "output_type": "execute_result",
          "data": {
            "text/plain": [
              "((3795465, 3), (3800000, 2), (199756, 3), (200000, 2))"
            ]
          },
          "metadata": {
            "tags": []
          },
          "execution_count": 9
        }
      ]
    },
    {
      "cell_type": "code",
      "metadata": {
        "id": "zLVblxdcg4X0",
        "colab_type": "code",
        "colab": {
          "base_uri": "https://localhost:8080/",
          "height": 262
        },
        "outputId": "dcd28ba2-0c57-4f8d-8207-33f05c527366"
      },
      "source": [
        "train.head()"
      ],
      "execution_count": 10,
      "outputs": [
        {
          "output_type": "execute_result",
          "data": {
            "text/html": [
              "<div>\n",
              "<style scoped>\n",
              "    .dataframe tbody tr th:only-of-type {\n",
              "        vertical-align: middle;\n",
              "    }\n",
              "\n",
              "    .dataframe tbody tr th {\n",
              "        vertical-align: top;\n",
              "    }\n",
              "\n",
              "    .dataframe thead th {\n",
              "        text-align: right;\n",
              "    }\n",
              "</style>\n",
              "<table border=\"1\" class=\"dataframe\">\n",
              "  <thead>\n",
              "    <tr style=\"text-align: right;\">\n",
              "      <th></th>\n",
              "      <th>text</th>\n",
              "      <th>parent_text</th>\n",
              "      <th>rating</th>\n",
              "    </tr>\n",
              "  </thead>\n",
              "  <tbody>\n",
              "    <tr>\n",
              "      <th>0</th>\n",
              "      <td>I was a whole bunch of folks on Recess yup  Th...</td>\n",
              "      <td>Your IMDB just blew my mind You were Upside Do...</td>\n",
              "      <td>454</td>\n",
              "    </tr>\n",
              "    <tr>\n",
              "      <th>1</th>\n",
              "      <td>Im not quite sure how that was relevant but Im...</td>\n",
              "      <td>URL</td>\n",
              "      <td>71</td>\n",
              "    </tr>\n",
              "    <tr>\n",
              "      <th>2</th>\n",
              "      <td>Sounds like you werent paying attention</td>\n",
              "      <td>Sadly high school history doesnt teach you abo...</td>\n",
              "      <td>-9</td>\n",
              "    </tr>\n",
              "    <tr>\n",
              "      <th>3</th>\n",
              "      <td>Polygamy doesnt mean that theres just women i...</td>\n",
              "      <td>from a feminist perspective So what if you wo...</td>\n",
              "      <td>-12</td>\n",
              "    </tr>\n",
              "    <tr>\n",
              "      <th>4</th>\n",
              "      <td>The New Orleans GargleGlubGlubs</td>\n",
              "      <td>My high schools mascot was water</td>\n",
              "      <td>91</td>\n",
              "    </tr>\n",
              "  </tbody>\n",
              "</table>\n",
              "</div>"
            ],
            "text/plain": [
              "                                                text  ... rating\n",
              "0  I was a whole bunch of folks on Recess yup  Th...  ...    454\n",
              "1  Im not quite sure how that was relevant but Im...  ...     71\n",
              "2            Sounds like you werent paying attention  ...     -9\n",
              "3   Polygamy doesnt mean that theres just women i...  ...    -12\n",
              "4                    The New Orleans GargleGlubGlubs  ...     91\n",
              "\n",
              "[5 rows x 3 columns]"
            ]
          },
          "metadata": {
            "tags": []
          },
          "execution_count": 10
        }
      ]
    },
    {
      "cell_type": "code",
      "metadata": {
        "id": "twAHJ2q9bC91",
        "colab_type": "code",
        "colab": {
          "base_uri": "https://localhost:8080/",
          "height": 518
        },
        "outputId": "2392b55a-357e-48b8-91cd-2bab2ca4622e"
      },
      "source": [
        "train = transform_df(train)\n",
        "test = transform_df(test)\n",
        "train.head()"
      ],
      "execution_count": 11,
      "outputs": [
        {
          "output_type": "execute_result",
          "data": {
            "text/html": [
              "<div>\n",
              "<style scoped>\n",
              "    .dataframe tbody tr th:only-of-type {\n",
              "        vertical-align: middle;\n",
              "    }\n",
              "\n",
              "    .dataframe tbody tr th {\n",
              "        vertical-align: top;\n",
              "    }\n",
              "\n",
              "    .dataframe thead th {\n",
              "        text-align: right;\n",
              "    }\n",
              "</style>\n",
              "<table border=\"1\" class=\"dataframe\">\n",
              "  <thead>\n",
              "    <tr style=\"text-align: right;\">\n",
              "      <th></th>\n",
              "      <th>text</th>\n",
              "      <th>parent_text</th>\n",
              "      <th>rating</th>\n",
              "      <th>text_lemm</th>\n",
              "      <th>parent_lemm</th>\n",
              "      <th>text_and_parent</th>\n",
              "      <th>text_and_parent_lemm</th>\n",
              "    </tr>\n",
              "  </thead>\n",
              "  <tbody>\n",
              "    <tr>\n",
              "      <th>0</th>\n",
              "      <td>I was a whole bunch of folks on Recess yup  Th...</td>\n",
              "      <td>Your IMDB just blew my mind You were Upside Do...</td>\n",
              "      <td>454</td>\n",
              "      <td>I be a whole bunch of folk on Recess yup There...</td>\n",
              "      <td>Your IMDB just blow my mind You be Upside Down...</td>\n",
              "      <td>I was a whole bunch of folks on Recess yup  Th...</td>\n",
              "      <td>I be a whole bunch of folk on Recess yup There...</td>\n",
              "    </tr>\n",
              "    <tr>\n",
              "      <th>1</th>\n",
              "      <td>Im not quite sure how that was relevant but Im...</td>\n",
              "      <td>URL</td>\n",
              "      <td>71</td>\n",
              "      <td>-PRON- be not quite sure how that be relevant ...</td>\n",
              "      <td>URL</td>\n",
              "      <td>Im not quite sure how that was relevant but Im...</td>\n",
              "      <td>-PRON- be not quite sure how that be relevant ...</td>\n",
              "    </tr>\n",
              "    <tr>\n",
              "      <th>2</th>\n",
              "      <td>Sounds like you werent paying attention</td>\n",
              "      <td>Sadly high school history doesnt teach you abo...</td>\n",
              "      <td>-9</td>\n",
              "      <td>Sounds like you be not pay attention</td>\n",
              "      <td>Sadly high school history do not teach you abo...</td>\n",
              "      <td>Sounds like you werent paying attentionSadly h...</td>\n",
              "      <td>Sounds like you be not pay attentionSadly high...</td>\n",
              "    </tr>\n",
              "    <tr>\n",
              "      <th>3</th>\n",
              "      <td>Polygamy doesnt mean that theres just women i...</td>\n",
              "      <td>from a feminist perspective So what if you wo...</td>\n",
              "      <td>-12</td>\n",
              "      <td>Polygamy do not mean that there s just woman i...</td>\n",
              "      <td>from a feminist perspective So what if you wou...</td>\n",
              "      <td>Polygamy doesnt mean that theres just women i...</td>\n",
              "      <td>Polygamy do not mean that there s just woman i...</td>\n",
              "    </tr>\n",
              "    <tr>\n",
              "      <th>4</th>\n",
              "      <td>The New Orleans GargleGlubGlubs</td>\n",
              "      <td>My high schools mascot was water</td>\n",
              "      <td>91</td>\n",
              "      <td>The New Orleans GargleGlubGlubs</td>\n",
              "      <td>My high school mascot be water</td>\n",
              "      <td>The New Orleans GargleGlubGlubsMy high schools...</td>\n",
              "      <td>The New Orleans GargleGlubGlubsMy high school ...</td>\n",
              "    </tr>\n",
              "  </tbody>\n",
              "</table>\n",
              "</div>"
            ],
            "text/plain": [
              "                                                text  ...                               text_and_parent_lemm\n",
              "0  I was a whole bunch of folks on Recess yup  Th...  ...  I be a whole bunch of folk on Recess yup There...\n",
              "1  Im not quite sure how that was relevant but Im...  ...  -PRON- be not quite sure how that be relevant ...\n",
              "2            Sounds like you werent paying attention  ...  Sounds like you be not pay attentionSadly high...\n",
              "3   Polygamy doesnt mean that theres just women i...  ...  Polygamy do not mean that there s just woman i...\n",
              "4                    The New Orleans GargleGlubGlubs  ...  The New Orleans GargleGlubGlubsMy high school ...\n",
              "\n",
              "[5 rows x 7 columns]"
            ]
          },
          "metadata": {
            "tags": []
          },
          "execution_count": 11
        }
      ]
    },
    {
      "cell_type": "code",
      "metadata": {
        "id": "X96NoSwZbUaz",
        "colab_type": "code",
        "colab": {
          "base_uri": "https://localhost:8080/",
          "height": 518
        },
        "outputId": "c2a102a2-a10c-4fb2-dd77-bdbed4ce1d4c"
      },
      "source": [
        "train, scaler = scale_y(train)\n",
        "test, scaler  = scale_y(test, training=False, scaler=scaler)\n",
        "train.head()"
      ],
      "execution_count": 12,
      "outputs": [
        {
          "output_type": "execute_result",
          "data": {
            "text/html": [
              "<div>\n",
              "<style scoped>\n",
              "    .dataframe tbody tr th:only-of-type {\n",
              "        vertical-align: middle;\n",
              "    }\n",
              "\n",
              "    .dataframe tbody tr th {\n",
              "        vertical-align: top;\n",
              "    }\n",
              "\n",
              "    .dataframe thead th {\n",
              "        text-align: right;\n",
              "    }\n",
              "</style>\n",
              "<table border=\"1\" class=\"dataframe\">\n",
              "  <thead>\n",
              "    <tr style=\"text-align: right;\">\n",
              "      <th></th>\n",
              "      <th>text</th>\n",
              "      <th>parent_text</th>\n",
              "      <th>rating</th>\n",
              "      <th>text_lemm</th>\n",
              "      <th>parent_lemm</th>\n",
              "      <th>text_and_parent</th>\n",
              "      <th>text_and_parent_lemm</th>\n",
              "      <th>rating_scaled</th>\n",
              "    </tr>\n",
              "  </thead>\n",
              "  <tbody>\n",
              "    <tr>\n",
              "      <th>0</th>\n",
              "      <td>I was a whole bunch of folks on Recess yup  Th...</td>\n",
              "      <td>Your IMDB just blew my mind You were Upside Do...</td>\n",
              "      <td>454</td>\n",
              "      <td>I be a whole bunch of folk on Recess yup There...</td>\n",
              "      <td>Your IMDB just blow my mind You be Upside Down...</td>\n",
              "      <td>I was a whole bunch of folks on Recess yup  Th...</td>\n",
              "      <td>I be a whole bunch of folk on Recess yup There...</td>\n",
              "      <td>1.709532</td>\n",
              "    </tr>\n",
              "    <tr>\n",
              "      <th>1</th>\n",
              "      <td>Im not quite sure how that was relevant but Im...</td>\n",
              "      <td>URL</td>\n",
              "      <td>71</td>\n",
              "      <td>-PRON- be not quite sure how that be relevant ...</td>\n",
              "      <td>URL</td>\n",
              "      <td>Im not quite sure how that was relevant but Im...</td>\n",
              "      <td>-PRON- be not quite sure how that be relevant ...</td>\n",
              "      <td>-0.098649</td>\n",
              "    </tr>\n",
              "    <tr>\n",
              "      <th>2</th>\n",
              "      <td>Sounds like you werent paying attention</td>\n",
              "      <td>Sadly high school history doesnt teach you abo...</td>\n",
              "      <td>-9</td>\n",
              "      <td>Sounds like you be not pay attention</td>\n",
              "      <td>Sadly high school history do not teach you abo...</td>\n",
              "      <td>Sounds like you werent paying attentionSadly h...</td>\n",
              "      <td>Sounds like you be not pay attentionSadly high...</td>\n",
              "      <td>-0.476337</td>\n",
              "    </tr>\n",
              "    <tr>\n",
              "      <th>3</th>\n",
              "      <td>Polygamy doesnt mean that theres just women i...</td>\n",
              "      <td>from a feminist perspective So what if you wo...</td>\n",
              "      <td>-12</td>\n",
              "      <td>Polygamy do not mean that there s just woman i...</td>\n",
              "      <td>from a feminist perspective So what if you wou...</td>\n",
              "      <td>Polygamy doesnt mean that theres just women i...</td>\n",
              "      <td>Polygamy do not mean that there s just woman i...</td>\n",
              "      <td>-0.490500</td>\n",
              "    </tr>\n",
              "    <tr>\n",
              "      <th>4</th>\n",
              "      <td>The New Orleans GargleGlubGlubs</td>\n",
              "      <td>My high schools mascot was water</td>\n",
              "      <td>91</td>\n",
              "      <td>The New Orleans GargleGlubGlubs</td>\n",
              "      <td>My high school mascot be water</td>\n",
              "      <td>The New Orleans GargleGlubGlubsMy high schools...</td>\n",
              "      <td>The New Orleans GargleGlubGlubsMy high school ...</td>\n",
              "      <td>-0.004227</td>\n",
              "    </tr>\n",
              "  </tbody>\n",
              "</table>\n",
              "</div>"
            ],
            "text/plain": [
              "                                                text  ... rating_scaled\n",
              "0  I was a whole bunch of folks on Recess yup  Th...  ...      1.709532\n",
              "1  Im not quite sure how that was relevant but Im...  ...     -0.098649\n",
              "2            Sounds like you werent paying attention  ...     -0.476337\n",
              "3   Polygamy doesnt mean that theres just women i...  ...     -0.490500\n",
              "4                    The New Orleans GargleGlubGlubs  ...     -0.004227\n",
              "\n",
              "[5 rows x 8 columns]"
            ]
          },
          "metadata": {
            "tags": []
          },
          "execution_count": 12
        }
      ]
    },
    {
      "cell_type": "markdown",
      "metadata": {
        "id": "BNqbg1SH3G6B",
        "colab_type": "text"
      },
      "source": [
        "Убедимся, что ничего не съехало:"
      ]
    },
    {
      "cell_type": "code",
      "metadata": {
        "id": "cg5UShPE3EXv",
        "colab_type": "code",
        "colab": {
          "base_uri": "https://localhost:8080/",
          "height": 235
        },
        "outputId": "e6cca236-0750-4415-ab46-dea2279362dd"
      },
      "source": [
        "train.iloc[-1], X_train.iloc[-1], y_train.iloc[-1]"
      ],
      "execution_count": 13,
      "outputs": [
        {
          "output_type": "execute_result",
          "data": {
            "text/plain": [
              "(text                    4x the pixels has nothing to do with the resol...\n",
              " parent_text             The new GPU is 2x as powerful as the iPad 2s b...\n",
              " rating                                                                 -8\n",
              " text_lemm               the pixel have nothing to do with the resoluti...\n",
              " parent_lemm             The new GPU be a powerful a the iPad but there...\n",
              " text_and_parent         4x the pixels has nothing to do with the resol...\n",
              " text_and_parent_lemm    the pixel have nothing to do with the resoluti...\n",
              " rating_scaled                                                   -0.471616\n",
              " Name: 3799999, dtype: object,\n",
              " text           4x the pixels has nothing to do with the resol...\n",
              " parent_text    The new GPU is 2x as powerful as the iPad 2's,...\n",
              " Name: 3799999, dtype: object,\n",
              " -8)"
            ]
          },
          "metadata": {
            "tags": []
          },
          "execution_count": 13
        }
      ]
    },
    {
      "cell_type": "code",
      "metadata": {
        "id": "e3iAy_OB3E8W",
        "colab_type": "code",
        "colab": {
          "base_uri": "https://localhost:8080/",
          "height": 235
        },
        "outputId": "ebba9989-d1c4-4f40-bc0b-169c4c7aca2c"
      },
      "source": [
        "test.iloc[-1], X_test.iloc[-1], y_test.iloc[-1]"
      ],
      "execution_count": 14,
      "outputs": [
        {
          "output_type": "execute_result",
          "data": {
            "text/plain": [
              "(text                    Ha people on Reddit go on the side of whoever ...\n",
              " parent_text             I just hope you guys dont ruin it for the play...\n",
              " rating                                                                 91\n",
              " text_lemm               Ha people on Reddit go on the side of whoever ...\n",
              " parent_lemm             I just hope you guy do not ruin it for the pla...\n",
              " text_and_parent         Ha people on Reddit go on the side of whoever ...\n",
              " text_and_parent_lemm    Ha people on Reddit go on the side of whoever ...\n",
              " rating_scaled                                                 -0.00422711\n",
              " Name: 199999, dtype: object,\n",
              " text           Ha, people on Reddit go on the side of whoever...\n",
              " parent_text    I just hope you guys don't ruin it for the pla...\n",
              " Name: 199999, dtype: object,\n",
              " 91)"
            ]
          },
          "metadata": {
            "tags": []
          },
          "execution_count": 14
        }
      ]
    },
    {
      "cell_type": "code",
      "metadata": {
        "id": "F9SCyT84CqiD",
        "colab_type": "code",
        "colab": {}
      },
      "source": [
        "# train.to_csv('train.csv', index=False)\n",
        "# test.to_csv('test.csv', index=False)"
      ],
      "execution_count": 0,
      "outputs": []
    },
    {
      "cell_type": "code",
      "metadata": {
        "id": "I7ROZUxJKMK3",
        "colab_type": "code",
        "colab": {
          "base_uri": "https://localhost:8080/",
          "height": 518
        },
        "outputId": "96165e35-d214-4579-85ee-931b6ef6d067"
      },
      "source": [
        "train.head()"
      ],
      "execution_count": 16,
      "outputs": [
        {
          "output_type": "execute_result",
          "data": {
            "text/html": [
              "<div>\n",
              "<style scoped>\n",
              "    .dataframe tbody tr th:only-of-type {\n",
              "        vertical-align: middle;\n",
              "    }\n",
              "\n",
              "    .dataframe tbody tr th {\n",
              "        vertical-align: top;\n",
              "    }\n",
              "\n",
              "    .dataframe thead th {\n",
              "        text-align: right;\n",
              "    }\n",
              "</style>\n",
              "<table border=\"1\" class=\"dataframe\">\n",
              "  <thead>\n",
              "    <tr style=\"text-align: right;\">\n",
              "      <th></th>\n",
              "      <th>text</th>\n",
              "      <th>parent_text</th>\n",
              "      <th>rating</th>\n",
              "      <th>text_lemm</th>\n",
              "      <th>parent_lemm</th>\n",
              "      <th>text_and_parent</th>\n",
              "      <th>text_and_parent_lemm</th>\n",
              "      <th>rating_scaled</th>\n",
              "    </tr>\n",
              "  </thead>\n",
              "  <tbody>\n",
              "    <tr>\n",
              "      <th>0</th>\n",
              "      <td>I was a whole bunch of folks on Recess yup  Th...</td>\n",
              "      <td>Your IMDB just blew my mind You were Upside Do...</td>\n",
              "      <td>454</td>\n",
              "      <td>I be a whole bunch of folk on Recess yup There...</td>\n",
              "      <td>Your IMDB just blow my mind You be Upside Down...</td>\n",
              "      <td>I was a whole bunch of folks on Recess yup  Th...</td>\n",
              "      <td>I be a whole bunch of folk on Recess yup There...</td>\n",
              "      <td>1.709532</td>\n",
              "    </tr>\n",
              "    <tr>\n",
              "      <th>1</th>\n",
              "      <td>Im not quite sure how that was relevant but Im...</td>\n",
              "      <td>URL</td>\n",
              "      <td>71</td>\n",
              "      <td>-PRON- be not quite sure how that be relevant ...</td>\n",
              "      <td>URL</td>\n",
              "      <td>Im not quite sure how that was relevant but Im...</td>\n",
              "      <td>-PRON- be not quite sure how that be relevant ...</td>\n",
              "      <td>-0.098649</td>\n",
              "    </tr>\n",
              "    <tr>\n",
              "      <th>2</th>\n",
              "      <td>Sounds like you werent paying attention</td>\n",
              "      <td>Sadly high school history doesnt teach you abo...</td>\n",
              "      <td>-9</td>\n",
              "      <td>Sounds like you be not pay attention</td>\n",
              "      <td>Sadly high school history do not teach you abo...</td>\n",
              "      <td>Sounds like you werent paying attentionSadly h...</td>\n",
              "      <td>Sounds like you be not pay attentionSadly high...</td>\n",
              "      <td>-0.476337</td>\n",
              "    </tr>\n",
              "    <tr>\n",
              "      <th>3</th>\n",
              "      <td>Polygamy doesnt mean that theres just women i...</td>\n",
              "      <td>from a feminist perspective So what if you wo...</td>\n",
              "      <td>-12</td>\n",
              "      <td>Polygamy do not mean that there s just woman i...</td>\n",
              "      <td>from a feminist perspective So what if you wou...</td>\n",
              "      <td>Polygamy doesnt mean that theres just women i...</td>\n",
              "      <td>Polygamy do not mean that there s just woman i...</td>\n",
              "      <td>-0.490500</td>\n",
              "    </tr>\n",
              "    <tr>\n",
              "      <th>4</th>\n",
              "      <td>The New Orleans GargleGlubGlubs</td>\n",
              "      <td>My high schools mascot was water</td>\n",
              "      <td>91</td>\n",
              "      <td>The New Orleans GargleGlubGlubs</td>\n",
              "      <td>My high school mascot be water</td>\n",
              "      <td>The New Orleans GargleGlubGlubsMy high schools...</td>\n",
              "      <td>The New Orleans GargleGlubGlubsMy high school ...</td>\n",
              "      <td>-0.004227</td>\n",
              "    </tr>\n",
              "  </tbody>\n",
              "</table>\n",
              "</div>"
            ],
            "text/plain": [
              "                                                text  ... rating_scaled\n",
              "0  I was a whole bunch of folks on Recess yup  Th...  ...      1.709532\n",
              "1  Im not quite sure how that was relevant but Im...  ...     -0.098649\n",
              "2            Sounds like you werent paying attention  ...     -0.476337\n",
              "3   Polygamy doesnt mean that theres just women i...  ...     -0.490500\n",
              "4                    The New Orleans GargleGlubGlubs  ...     -0.004227\n",
              "\n",
              "[5 rows x 8 columns]"
            ]
          },
          "metadata": {
            "tags": []
          },
          "execution_count": 16
        }
      ]
    },
    {
      "cell_type": "markdown",
      "metadata": {
        "id": "Sf41nvrBLbyp",
        "colab_type": "text"
      },
      "source": [
        "# Sklearn Models"
      ]
    },
    {
      "cell_type": "code",
      "metadata": {
        "id": "vXkk_QbwNrMF",
        "colab_type": "code",
        "colab": {}
      },
      "source": [
        "from sklearn.feature_extraction.text import TfidfVectorizer\n",
        "from sklearn.linear_model import LinearRegression, Ridge, RidgeCV, SGDRegressor, Lasso"
      ],
      "execution_count": 0,
      "outputs": []
    },
    {
      "cell_type": "code",
      "metadata": {
        "id": "ohzt4briOOui",
        "colab_type": "code",
        "colab": {
          "base_uri": "https://localhost:8080/",
          "height": 34
        },
        "outputId": "8a4f1cbd-6d09-4307-e78f-02dd85e8875d"
      },
      "source": [
        "# TfidfVectorized params were chosen mostly based on RAM limits\n",
        "vectorizer = TfidfVectorizer(lowercase=True, ngram_range=(1,2), analyzer='word',\n",
        "                             stop_words='english', max_features=100000)\n",
        "X_train = vectorizer.fit_transform(train['text_and_parent'])\n",
        "X_test = vectorizer.transform(test['text_and_parent'])\n",
        "X_train.shape, X_test.shape"
      ],
      "execution_count": 18,
      "outputs": [
        {
          "output_type": "execute_result",
          "data": {
            "text/plain": [
              "((3795465, 100000), (199756, 100000))"
            ]
          },
          "metadata": {
            "tags": []
          },
          "execution_count": 18
        }
      ]
    },
    {
      "cell_type": "markdown",
      "metadata": {
        "id": "osfrtMmYCU0G",
        "colab_type": "text"
      },
      "source": [
        "После перебора нескольких вариантов исходного текста ('text', 'text_lemm', 'text_and_parent', 'text_and_parent_lemm') было решено использовать 'text_and_parent' для построения tf-idf матрицы (так MSE минимальна для большинства моделей). \n",
        "\n",
        "\n",
        "Далее смотрим на ошибки на тренировочной и тестовой выборках и выбирем модель для кросс-валидации. "
      ]
    },
    {
      "cell_type": "code",
      "metadata": {
        "id": "WSFzVexaoDSU",
        "colab_type": "code",
        "colab": {}
      },
      "source": [
        "def check_model(model, name, X_train, y_train, X_test, y_test, scalser=scaler):\n",
        "    \"\"\"\n",
        "    Fits model on train data and prints MSE error information for train/test data\n",
        "    \"\"\"\n",
        "    model.fit(X_train, y_train)\n",
        "    y_pred = model.predict(X_test)\n",
        "    y_pred_train = model.predict(X_train)\n",
        "    print('[TRAIN] MSE for {} [SCALED Y] - {}'.format(name, mean_squared_error(y_train, y_pred_train)))\n",
        "    print('[TEST] MSE for {} [SCALED Y] - {}'.format(name, mean_squared_error(y_test, y_pred)))\n",
        "    print('[TRAIN] MSE for {} [ORIGINAL Y] - {}'.format(name, mean_squared_error(scaler.inverse_transform(y_train), scaler.inverse_transform(y_pred_train))))\n",
        "    print('[TEST] MSE for {} [ORIGINAL Y] - {}'.format(name, mean_squared_error(scaler.inverse_transform(y_test), scaler.inverse_transform(y_pred))))\n",
        "    print()"
      ],
      "execution_count": 0,
      "outputs": []
    },
    {
      "cell_type": "code",
      "metadata": {
        "id": "iG8jBLPP0kvn",
        "colab_type": "code",
        "colab": {
          "base_uri": "https://localhost:8080/",
          "height": 269
        },
        "outputId": "bb6996d3-533e-4212-fdde-b4665ad101c3"
      },
      "source": [
        "for model, name in [(Ridge(), 'Ridge'), (SGDRegressor(), 'SGD'), (Lasso(), 'Lasso'), (LinearRegression(), 'Lin Reg')]:\n",
        "    check_model(model, name, X_train, train['rating_scaled'], X_test, test['rating_scaled'])"
      ],
      "execution_count": 0,
      "outputs": [
        {
          "output_type": "stream",
          "text": [
            "[TRAIN] MSE for Ridge [SCALED Y] - 0.8698284881846813\n",
            "[TEST] MSE for Ridge [SCALED Y] - 0.8980621805485653\n",
            "[TRAIN] MSE for Ridge [ORIGINAL Y] - 39025.38088411128\n",
            "[TEST] MSE for Ridge [ORIGINAL Y] - 40292.10255767358\n",
            "\n",
            "[TRAIN] MSE for SGD [SCALED Y] - 0.9306664216946247\n",
            "[TEST] MSE for SGD [SCALED Y] - 0.9172270497552503\n",
            "[TRAIN] MSE for SGD [ORIGINAL Y] - 41754.91154409551\n",
            "[TEST] MSE for SGD [ORIGINAL Y] - 41151.945998701754\n",
            "\n",
            "[TRAIN] MSE for Lasso [SCALED Y] - 0.9999999999999997\n",
            "[TEST] MSE for Lasso [SCALED Y] - 0.9860120405738635\n",
            "[TRAIN] MSE for Lasso [ORIGINAL Y] - 44865.60444295946\n",
            "[TEST] MSE for Lasso [ORIGINAL Y] - 44238.02618838225\n",
            "\n"
          ],
          "name": "stdout"
        }
      ]
    },
    {
      "cell_type": "markdown",
      "metadata": {
        "id": "W9fSleXgVKMU",
        "colab_type": "text"
      },
      "source": [
        "Лучшие результаты у Ridge регрессии, попробуем ее."
      ]
    },
    {
      "cell_type": "code",
      "metadata": {
        "id": "xFID4FYLCvt9",
        "colab_type": "code",
        "colab": {
          "base_uri": "https://localhost:8080/",
          "height": 50
        },
        "outputId": "a6521458-bab5-47d5-a5fb-af9d24cbb9d8"
      },
      "source": [
        "model = RidgeCV(cv=3, alphas=[0.1, 1.0, 10, 100])\n",
        "model.fit(X_train, train['rating_scaled'])"
      ],
      "execution_count": 42,
      "outputs": [
        {
          "output_type": "execute_result",
          "data": {
            "text/plain": [
              "RidgeCV(alphas=array([  0.1,   1. ,  10. , 100. ]), cv=3, fit_intercept=True,\n",
              "        gcv_mode=None, normalize=False, scoring=None, store_cv_values=False)"
            ]
          },
          "metadata": {
            "tags": []
          },
          "execution_count": 42
        }
      ]
    },
    {
      "cell_type": "code",
      "metadata": {
        "id": "GBZWkHz7XWN3",
        "colab_type": "code",
        "colab": {
          "base_uri": "https://localhost:8080/",
          "height": 50
        },
        "outputId": "6100dd4d-c6ea-4d92-9abd-a60ebcc7ccf7"
      },
      "source": [
        "print('NEG MSE [TRAIN]: {}'.format(model.score(X_train, train['rating_scaled'])))\n",
        "print('NEG MSE [TEST]: {}'.format(model.score(X_test, test['rating_scaled'])))"
      ],
      "execution_count": 43,
      "outputs": [
        {
          "output_type": "stream",
          "text": [
            "NEG MSE [TRAIN]: 0.12199114345149498\n",
            "NEG MSE [TEST]: 0.09672704468203619\n"
          ],
          "name": "stdout"
        }
      ]
    },
    {
      "cell_type": "code",
      "metadata": {
        "id": "sbHgtSKiedmC",
        "colab_type": "code",
        "colab": {
          "base_uri": "https://localhost:8080/",
          "height": 50
        },
        "outputId": "9066e090-a1d2-456e-9a5a-0efe83d8c9c8"
      },
      "source": [
        "mse_train_s = mean_squared_error(train['rating_scaled'], model.predict(X_train))\n",
        "mse_train = mean_squared_error(train['rating'], scaler.inverse_transform(model.predict(X_train)))\n",
        "\n",
        "print('MSE [TRAIN_SCALED]: {}'.format(mse_train_s))\n",
        "print('MSE [TRAIN]: {}'.format(mse_train))"
      ],
      "execution_count": 44,
      "outputs": [
        {
          "output_type": "stream",
          "text": [
            "MSE [TRAIN_SCALED]: 0.8780088565485047\n",
            "MSE [TRAIN]: 39392.39805532032\n"
          ],
          "name": "stdout"
        }
      ]
    },
    {
      "cell_type": "code",
      "metadata": {
        "id": "hPSb2JYDYAIg",
        "colab_type": "code",
        "colab": {
          "base_uri": "https://localhost:8080/",
          "height": 50
        },
        "outputId": "026d8db3-1542-46de-a965-6d2dbcc518af"
      },
      "source": [
        "mse_test_s = mean_squared_error(test['rating_scaled'], model.predict(X_test))\n",
        "mse_test = mean_squared_error(test['rating'], scaler.inverse_transform(model.predict(X_test)))\n",
        "\n",
        "print('MSE [TEST_SCALED]: {}'.format(mse_test_s))\n",
        "print('MSE [TEST]: {}'.format(mse_test))"
      ],
      "execution_count": 45,
      "outputs": [
        {
          "output_type": "stream",
          "text": [
            "MSE [TEST_SCALED]: 0.890637879155663\n",
            "MSE [TEST]: 39959.006788114304\n"
          ],
          "name": "stdout"
        }
      ]
    }
  ]
}